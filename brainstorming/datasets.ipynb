{
 "cells": [
  {
   "cell_type": "code",
   "execution_count": null,
   "metadata": {},
   "outputs": [],
   "source": [
    "import pandas as pd"
   ]
  },
  {
   "cell_type": "markdown",
   "metadata": {},
   "source": [
    "## Discogs Datasets (January 2025)\n",
    "This comprehensive dataset from Discogs includes detailed information about artists and their releases up to January 1, 2025. It’s a valuable resource for analyzing music labels, genres, and release trends.\n",
    "\n",
    "https://www.kaggle.com/datasets/ofurkancoban/discogs-datasets-january-2025"
   ]
  },
  {
   "cell_type": "code",
   "execution_count": null,
   "metadata": {},
   "outputs": [],
   "source": []
  },
  {
   "cell_type": "markdown",
   "metadata": {},
   "source": [
    "## Viberate’s Post-Pandemic Festival Report (2022)\n",
    "This report offers an analysis of the 2022 festival season, highlighting trends, most-booked artists, and audience demographics. It can serve as a foundation for understanding festival lineups and attendee preferences. \n",
    "\n",
    "https://www.viberate.com/reports/festival-report-2022/"
   ]
  },
  {
   "cell_type": "markdown",
   "metadata": {},
   "source": [
    "## Understanding The Music Festival Target Audiences\n",
    "\n",
    "This study delves into the demographics and behaviors of festival-goers, providing insights into attendance patterns and audience segmentation.\n",
    "\n",
    "https://tseentertainment.com/understanding-music-festival-target-audiences/"
   ]
  }
 ],
 "metadata": {
  "kernelspec": {
   "display_name": "Python3 (Jupyter venv)",
   "language": "python",
   "name": "jupyter_venv"
  },
  "language_info": {
   "name": "python",
   "version": "3.13.2"
  }
 },
 "nbformat": 4,
 "nbformat_minor": 2
}
