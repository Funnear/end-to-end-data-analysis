{
 "cells": [
  {
   "cell_type": "code",
   "execution_count": 1,
   "metadata": {},
   "outputs": [
    {
     "name": "stdout",
     "output_type": "stream",
     "text": [
      "/Users/bubblegum_doubledrops/Library/Mobile Documents/com~apple~CloudDocs/0prio - Important heavy backups/IronHack/big_projects/end-to-end-data-analysis/venv/bin/python\n"
     ]
    }
   ],
   "source": [
    "!which python"
   ]
  },
  {
   "cell_type": "code",
   "execution_count": 2,
   "metadata": {},
   "outputs": [
    {
     "name": "stderr",
     "output_type": "stream",
     "text": [
      "/Users/bubblegum_doubledrops/Library/Mobile Documents/com~apple~CloudDocs/0prio - Important heavy backups/IronHack/big_projects/end-to-end-data-analysis/venv/lib/python3.13/site-packages/tqdm/auto.py:21: TqdmWarning: IProgress not found. Please update jupyter and ipywidgets. See https://ipywidgets.readthedocs.io/en/stable/user_install.html\n",
      "  from .autonotebook import tqdm as notebook_tqdm\n",
      "/var/folders/mw/fk43c9sj50d252zw3crnw2080000gn/T/ipykernel_8412/817386935.py:8: DeprecationWarning: load_dataset is deprecated and will be removed in future version.\n",
      "  df = kagglehub.load_dataset(\n"
     ]
    },
    {
     "name": "stdout",
     "output_type": "stream",
     "text": [
      "Downloading from https://www.kaggle.com/api/v1/datasets/download/ofurkancoban/discogs-datasets-january-2025?dataset_version_number=2&file_name=discogs_20250101_artists.csv...\n"
     ]
    },
    {
     "name": "stderr",
     "output_type": "stream",
     "text": [
      "100%|██████████| 825M/825M [05:09<00:00, 2.79MB/s] \n"
     ]
    },
    {
     "name": "stdout",
     "output_type": "stream",
     "text": [
      "First 5 records:                     aliases_name  aliases_name_id artist_data_quality  \\\n",
      "0                The Pinguin Man         439150.0          Needs Vote   \n",
      "1  Alexi Delano & Cari Lekebusch        1779857.0             Correct   \n",
      "2                        J. Dawg         870371.0             Correct   \n",
      "3                        Cryptik        3558838.0          Needs Vote   \n",
      "4                            HLX         221112.0          Needs Vote   \n",
      "\n",
      "   artist_id             artist_name  \\\n",
      "0          1           The Persuader   \n",
      "1          2  Mr. James Barth & A.D.   \n",
      "2          3               Josh Wink   \n",
      "3          4           Johannes Heil   \n",
      "4          5              Heiko Laux   \n",
      "\n",
      "                                      artist_profile   artist_realname  \\\n",
      "0  Electronic artist working out of Stockholm, ac...   Jesper Dahlbäck   \n",
      "1                                                NaN               NaN   \n",
      "2  Electronic music DJ, label owner, producer, an...  Joshua Winkelman   \n",
      "3  Electronic music producer, musician and live p...     Johannes Heil   \n",
      "4  German DJ and producer based in Berlin. He is ...        Heiko Laux   \n",
      "\n",
      "              groups_name  groups_name_id    members_name  members_name_id  \\\n",
      "0                     NaN             NaN             NaN              NaN   \n",
      "1                     NaN             NaN  Cari Lekebusch             27.0   \n",
      "2          The Force (23)       1642275.0             NaN              NaN   \n",
      "3  Question Authority (2)        239403.0             NaN              NaN   \n",
      "4                  4K (3)       3426169.0             NaN              NaN   \n",
      "\n",
      "       namevariations_name                                        urls_url  \n",
      "0            The Presuader  https://www.last.fm/music/Jesper+Dahlb%C3%A4ck  \n",
      "1  Mr. James Barth & A. D.                                             NaN  \n",
      "2                     佐瑟溫克        http://www.youtube.com/user/JoshWinkVEVO  \n",
      "3            Johannes Hell                                             NaN  \n",
      "4                     Laux                http://www.myspace.com/heikolaux  \n"
     ]
    }
   ],
   "source": [
    "import kagglehub\n",
    "from kagglehub import KaggleDatasetAdapter\n",
    "\n",
    "# Set the path to the file you'd like to load\n",
    "file_path = \"discogs_20250101_artists.csv\"\n",
    "\n",
    "# Load the latest version\n",
    "df = kagglehub.load_dataset(\n",
    "  KaggleDatasetAdapter.PANDAS,\n",
    "  \"ofurkancoban/discogs-datasets-january-2025\",\n",
    "  file_path,\n",
    "  # Provide any additional arguments like \n",
    "  # sql_query or pandas_kwargs. See the \n",
    "  # documenation for more information:\n",
    "  # https://github.com/Kaggle/kagglehub/blob/main/README.md#kaggledatasetadapterpandas\n",
    ")\n",
    "\n",
    "print(\"First 5 records:\", df.head())"
   ]
  }
 ],
 "metadata": {
  "kernelspec": {
   "display_name": "Python (venv)",
   "language": "python",
   "name": "venv"
  },
  "language_info": {
   "codemirror_mode": {
    "name": "ipython",
    "version": 3
   },
   "file_extension": ".py",
   "mimetype": "text/x-python",
   "name": "python",
   "nbconvert_exporter": "python",
   "pygments_lexer": "ipython3",
   "version": "3.13.2"
  }
 },
 "nbformat": 4,
 "nbformat_minor": 2
}
