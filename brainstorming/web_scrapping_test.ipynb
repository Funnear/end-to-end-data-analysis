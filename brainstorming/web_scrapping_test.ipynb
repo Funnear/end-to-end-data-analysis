{
 "cells": [
  {
   "cell_type": "code",
   "execution_count": 2,
   "metadata": {},
   "outputs": [
    {
     "name": "stdout",
     "output_type": "stream",
     "text": [
      "Title: Viberate Presents:Post-pandemicFestival Report | 2022\n",
      "Content: ue metric, and focused on the top 500. Only those with a 2022 edition announced by April 21, 2022, were included in the analysis (plus the ones in 2022 that had already taken place by then).\n",
      "The final number of analyzed festivals was330, the number of analyzed artists on their 2022 lineups was9,651, and the total number of analyzed festival bookings was18,215.\n",
      "Music festivals are back, and in the case of mega-events likeCoachellaandGlastonbury, fans waited for over two years for the festivities \n"
     ]
    }
   ],
   "source": [
    "import requests\n",
    "from bs4 import BeautifulSoup\n",
    "\n",
    "def scrape_viberate_article(url):\n",
    "    headers = {\"User-Agent\": \"Mozilla/5.0\"}\n",
    "    response = requests.get(url, headers=headers)\n",
    "\n",
    "    if response.status_code != 200:\n",
    "        print(f\"Failed to fetch the page: {response.status_code}\")\n",
    "        return None\n",
    "\n",
    "    soup = BeautifulSoup(response.text, \"html.parser\")\n",
    "\n",
    "    # Extract title\n",
    "    title = soup.find(\"h1\").get_text(strip=True) if soup.find(\"h1\") else \"No title found\"\n",
    "\n",
    "    # Extract paragraphs\n",
    "    paragraphs = soup.find_all(\"p\")\n",
    "    content = \"\\n\".join([p.get_text(strip=True) for p in paragraphs])\n",
    "\n",
    "    return {\"title\": title, \"content\": content}\n",
    "\n",
    "# Example usage:\n",
    "url = \"https://www.viberate.com/reports/festival-report-2022/\"\n",
    "article_data = scrape_viberate_article(url)\n",
    "\n",
    "if article_data:\n",
    "    print(\"Title:\", article_data[\"title\"])\n",
    "    print(\"Content:\", article_data[\"content\"][1000:1500]) "
   ]
  }
 ],
 "metadata": {
  "kernelspec": {
   "display_name": "Python (venv)",
   "language": "python",
   "name": "venv"
  },
  "language_info": {
   "codemirror_mode": {
    "name": "ipython",
    "version": 3
   },
   "file_extension": ".py",
   "mimetype": "text/x-python",
   "name": "python",
   "nbconvert_exporter": "python",
   "pygments_lexer": "ipython3",
   "version": "3.13.2"
  }
 },
 "nbformat": 4,
 "nbformat_minor": 2
}
