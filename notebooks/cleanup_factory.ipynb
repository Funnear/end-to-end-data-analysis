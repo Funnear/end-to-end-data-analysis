{
 "cells": [
  {
   "cell_type": "code",
   "execution_count": 2,
   "metadata": {},
   "outputs": [],
   "source": [
    "import logging\n",
    "\n",
    "from src import eda, datasets"
   ]
  },
  {
   "cell_type": "code",
   "execution_count": 3,
   "metadata": {},
   "outputs": [],
   "source": [
    "logging.getLogger().setLevel(logging.DEBUG)"
   ]
  },
  {
   "cell_type": "code",
   "execution_count": 4,
   "metadata": {},
   "outputs": [
    {
     "name": "stderr",
     "output_type": "stream",
     "text": [
      "INFO:root:Restoring backup: /Users/bubblegum_doubledrops/Library/Mobile Documents/com~apple~CloudDocs/0prio - Important heavy backups/IronHack/big_projects/end-to-end-data-analysis/datasets/_dataset_pack_end-to-end-data-analysis.json\n",
      "INFO:root:No source provided, restoring from backup: /Users/bubblegum_doubledrops/Library/Mobile Documents/com~apple~CloudDocs/0prio - Important heavy backups/IronHack/big_projects/end-to-end-data-analysis/datasets/df_bandcamp_sales.pkl\n",
      "INFO:root:No source provided, restoring from backup: /Users/bubblegum_doubledrops/Library/Mobile Documents/com~apple~CloudDocs/0prio - Important heavy backups/IronHack/big_projects/end-to-end-data-analysis/datasets/df_discogs_artists.pkl\n",
      "INFO:root:No source provided, restoring from backup: /Users/bubblegum_doubledrops/Library/Mobile Documents/com~apple~CloudDocs/0prio - Important heavy backups/IronHack/big_projects/end-to-end-data-analysis/datasets/df_discogs_releases.pkl\n"
     ]
    }
   ],
   "source": [
    "project_pack = datasets.DatasetPack(restore=True)"
   ]
  },
  {
   "cell_type": "code",
   "execution_count": 5,
   "metadata": {},
   "outputs": [
    {
     "name": "stdout",
     "output_type": "stream",
     "text": [
      "================= df_bandcamp_sales =================\n",
      "<class 'pandas.core.frame.DataFrame'>\n",
      "RangeIndex: 1000000 entries, 0 to 999999\n",
      "Data columns (total 23 columns):\n",
      " #   Column                 Non-Null Count    Dtype  \n",
      "---  ------                 --------------    -----  \n",
      " 0   _id                    1000000 non-null  object \n",
      " 1   art_url                1000000 non-null  object \n",
      " 2   item_type              1000000 non-null  object \n",
      " 3   utc_date               1000000 non-null  float64\n",
      " 4   country_code           1000000 non-null  object \n",
      " 5   track_album_slug_text  2237 non-null     object \n",
      " 6   country                1000000 non-null  object \n",
      " 7   slug_type              988416 non-null   object \n",
      " 8   amount_paid_fmt        1000000 non-null  object \n",
      " 9   item_price             1000000 non-null  float64\n",
      " 10  item_description       999977 non-null   object \n",
      " 11  art_id                 764520 non-null   float64\n",
      " 12  url                    1000000 non-null  object \n",
      " 13  amount_paid            1000000 non-null  float64\n",
      " 14  releases               11584 non-null    float64\n",
      " 15  artist_name            999990 non-null   object \n",
      " 16  currency               1000000 non-null  object \n",
      " 17  album_title            356461 non-null   object \n",
      " 18  amount_paid_usd        1000000 non-null  float64\n",
      " 19  package_image_id       232708 non-null   float64\n",
      " 20  amount_over_fmt        119133 non-null   object \n",
      " 21  item_slug              21742 non-null    object \n",
      " 22  addl_count             21742 non-null    float64\n",
      "dtypes: float64(8), object(15)\n",
      "memory usage: 175.5+ MB\n",
      "\n",
      "================= df_discogs_artists =================\n",
      "<class 'pandas.core.frame.DataFrame'>\n",
      "RangeIndex: 9194907 entries, 0 to 9194906\n",
      "Data columns (total 14 columns):\n",
      " #   Column               Dtype  \n",
      "---  ------               -----  \n",
      " 0   Unnamed: 0           int64  \n",
      " 1   aliases_name         object \n",
      " 2   aliases_name_id      float64\n",
      " 3   artist_data_quality  object \n",
      " 4   artist_id            int64  \n",
      " 5   artist_name          object \n",
      " 6   artist_profile       object \n",
      " 7   artist_realname      object \n",
      " 8   groups_name          object \n",
      " 9   groups_name_id       float64\n",
      " 10  members_name         object \n",
      " 11  members_name_id      float64\n",
      " 12  namevariations_name  object \n",
      " 13  urls_url             object \n",
      "dtypes: float64(3), int64(2), object(9)\n",
      "memory usage: 982.1+ MB\n",
      "\n",
      "================= df_discogs_releases =================\n",
      "<class 'pandas.core.frame.DataFrame'>\n",
      "RangeIndex: 17372035 entries, 0 to 17372034\n",
      "Data columns (total 5 columns):\n",
      " #   Column      Dtype  \n",
      "---  ------      -----  \n",
      " 0   release_id  int64  \n",
      " 1   country     object \n",
      " 2   year        float64\n",
      " 3   genre       object \n",
      " 4   format      object \n",
      "dtypes: float64(1), int64(1), object(3)\n",
      "memory usage: 662.7+ MB\n",
      "\n"
     ]
    }
   ],
   "source": [
    "for label, dataset in project_pack.dictionary.items():\n",
    "    print(f\"================= {label} =================\")\n",
    "    dataset.dataframe.info()\n",
    "    print()"
   ]
  },
  {
   "cell_type": "code",
   "execution_count": 6,
   "metadata": {},
   "outputs": [
    {
     "name": "stderr",
     "output_type": "stream",
     "text": [
      "DEBUG:root:Column \"utc_date\" has 999990 unique values.\n",
      "DEBUG:root:Column \"item_price\" has 2878 unique values.\n",
      "DEBUG:root:Column \"art_id\" has 271430 unique values.\n",
      "DEBUG:root:Column \"amount_paid\" has 3315 unique values.\n",
      "DEBUG:root:Column \"releases\" has 220 unique values.\n",
      "DEBUG:root:Column \"amount_paid_usd\" has 5866 unique values.\n",
      "DEBUG:root:Column \"package_image_id\" has 63940 unique values.\n",
      "DEBUG:root:Column \"addl_count\" has 17 unique values.\n"
     ]
    },
    {
     "name": "stdout",
     "output_type": "stream",
     "text": [
      "================= df_bandcamp_sales =================\n",
      "df_bandcamp_sales has shape (1000000, 23)\n",
      "\n",
      "df_bandcamp_sales has numerical data in columns: ['utc_date', 'item_price', 'art_id', 'amount_paid', 'releases', 'amount_paid_usd', 'package_image_id', 'addl_count']\n",
      "- Column \"utc_date\" has 999990 unique values.\n",
      "- Column \"item_price\" has 2878 unique values.\n",
      "- Column \"art_id\" has 271430 unique values.\n",
      "- Column \"amount_paid\" has 3315 unique values.\n",
      "- Column \"releases\" has 220 unique values.\n",
      "- Column \"amount_paid_usd\" has 5866 unique values.\n",
      "- Column \"package_image_id\" has 63940 unique values.\n",
      "- Column \"addl_count\" has 17 unique values.\n",
      "\n",
      "df_bandcamp_sales has categorical data in columns: ['_id', 'art_url', 'item_type', 'country_code', 'track_album_slug_text', 'country', 'slug_type', 'amount_paid_fmt', 'item_description', 'url', 'artist_name', 'currency', 'album_title', 'amount_over_fmt', 'item_slug']\n"
     ]
    },
    {
     "name": "stderr",
     "output_type": "stream",
     "text": [
      "DEBUG:root:Column \"_id\" has 1000000 unique values.\n",
      "DEBUG:root:Column \"art_url\" has 335212 unique values.\n",
      "DEBUG:root:Column \"item_type\" has 4 unique values.\n",
      "DEBUG:root:Column \"country_code\" has 186 unique values.\n",
      "DEBUG:root:Column \"track_album_slug_text\" has 792 unique values.\n",
      "DEBUG:root:Column \"country\" has 186 unique values.\n",
      "DEBUG:root:Column \"slug_type\" has 3 unique values.\n",
      "DEBUG:root:Column \"amount_paid_fmt\" has 7127 unique values.\n",
      "DEBUG:root:Column \"item_description\" has 336985 unique values.\n",
      "DEBUG:root:Column \"url\" has 374473 unique values.\n",
      "DEBUG:root:Column \"artist_name\" has 159746 unique values.\n",
      "DEBUG:root:Column \"currency\" has 18 unique values.\n",
      "DEBUG:root:Column \"album_title\" has 103697 unique values.\n",
      "DEBUG:root:Column \"amount_over_fmt\" has 3084 unique values.\n",
      "DEBUG:root:Column \"item_slug\" has 156 unique values.\n"
     ]
    },
    {
     "name": "stdout",
     "output_type": "stream",
     "text": [
      "- Column \"_id\" has 1000000 unique values.\n",
      "- Column \"art_url\" has 335212 unique values.\n",
      "- Column \"item_type\" has 4 unique values.\n",
      "- Column \"country_code\" has 186 unique values.\n",
      "- Column \"track_album_slug_text\" has 792 unique values.\n",
      "- Column \"country\" has 186 unique values.\n",
      "- Column \"slug_type\" has 3 unique values.\n",
      "- Column \"amount_paid_fmt\" has 7127 unique values.\n",
      "- Column \"item_description\" has 336985 unique values.\n",
      "- Column \"url\" has 374473 unique values.\n",
      "- Column \"artist_name\" has 159746 unique values.\n",
      "- Column \"currency\" has 18 unique values.\n",
      "- Column \"album_title\" has 103697 unique values.\n",
      "- Column \"amount_over_fmt\" has 3084 unique values.\n",
      "- Column \"item_slug\" has 156 unique values.\n",
      "\n"
     ]
    },
    {
     "name": "stderr",
     "output_type": "stream",
     "text": [
      "DEBUG:root:Column \"Unnamed: 0\" has 9194907 unique values.\n"
     ]
    },
    {
     "name": "stdout",
     "output_type": "stream",
     "text": [
      "================= df_discogs_artists =================\n",
      "df_discogs_artists has shape (9194907, 14)\n",
      "\n",
      "df_discogs_artists has numerical data in columns: ['Unnamed: 0', 'aliases_name_id', 'artist_id', 'groups_name_id', 'members_name_id']\n"
     ]
    },
    {
     "name": "stderr",
     "output_type": "stream",
     "text": [
      "DEBUG:root:Column \"aliases_name_id\" has 479617 unique values.\n",
      "DEBUG:root:Column \"artist_id\" has 9194907 unique values.\n",
      "DEBUG:root:Column \"groups_name_id\" has 449588 unique values.\n",
      "DEBUG:root:Column \"members_name_id\" has 450795 unique values.\n",
      "DEBUG:root:Column \"aliases_name\" has 479615 unique values.\n"
     ]
    },
    {
     "name": "stdout",
     "output_type": "stream",
     "text": [
      "- Column \"Unnamed: 0\" has 9194907 unique values.\n",
      "- Column \"aliases_name_id\" has 479617 unique values.\n",
      "- Column \"artist_id\" has 9194907 unique values.\n",
      "- Column \"groups_name_id\" has 449588 unique values.\n",
      "- Column \"members_name_id\" has 450795 unique values.\n",
      "\n",
      "df_discogs_artists has categorical data in columns: ['aliases_name', 'artist_data_quality', 'artist_name', 'artist_profile', 'artist_realname', 'groups_name', 'members_name', 'namevariations_name', 'urls_url']\n"
     ]
    },
    {
     "name": "stderr",
     "output_type": "stream",
     "text": [
      "DEBUG:root:Column \"artist_data_quality\" has 6 unique values.\n",
      "DEBUG:root:Column \"artist_name\" has 9194896 unique values.\n",
      "DEBUG:root:Column \"artist_profile\" has 1389629 unique values.\n",
      "DEBUG:root:Column \"artist_realname\" has 541891 unique values.\n",
      "DEBUG:root:Column \"groups_name\" has 449587 unique values.\n",
      "DEBUG:root:Column \"members_name\" has 450795 unique values.\n",
      "DEBUG:root:Column \"namevariations_name\" has 1582994 unique values.\n",
      "DEBUG:root:Column \"urls_url\" has 923841 unique values.\n"
     ]
    },
    {
     "name": "stdout",
     "output_type": "stream",
     "text": [
      "- Column \"aliases_name\" has 479615 unique values.\n",
      "- Column \"artist_data_quality\" has 6 unique values.\n",
      "- Column \"artist_name\" has 9194896 unique values.\n",
      "- Column \"artist_profile\" has 1389629 unique values.\n",
      "- Column \"artist_realname\" has 541891 unique values.\n",
      "- Column \"groups_name\" has 449587 unique values.\n",
      "- Column \"members_name\" has 450795 unique values.\n",
      "- Column \"namevariations_name\" has 1582994 unique values.\n",
      "- Column \"urls_url\" has 923841 unique values.\n",
      "\n",
      "================= df_discogs_releases =================\n",
      "df_discogs_releases has shape (17372035, 5)\n",
      "\n",
      "df_discogs_releases has numerical data in columns: ['release_id', 'year']\n"
     ]
    },
    {
     "name": "stderr",
     "output_type": "stream",
     "text": [
      "DEBUG:root:Column \"release_id\" has 12867979 unique values.\n",
      "DEBUG:root:Column \"year\" has 132 unique values.\n",
      "DEBUG:root:Column \"country\" has 281 unique values.\n"
     ]
    },
    {
     "name": "stdout",
     "output_type": "stream",
     "text": [
      "- Column \"release_id\" has 12867979 unique values.\n",
      "- Column \"year\" has 132 unique values.\n",
      "\n",
      "df_discogs_releases has categorical data in columns: ['country', 'genre', 'format']\n"
     ]
    },
    {
     "name": "stderr",
     "output_type": "stream",
     "text": [
      "DEBUG:root:Column \"genre\" has 15 unique values.\n",
      "DEBUG:root:Column \"format\" has 57 unique values.\n"
     ]
    },
    {
     "name": "stdout",
     "output_type": "stream",
     "text": [
      "- Column \"country\" has 281 unique values.\n",
      "- Column \"genre\" has 15 unique values.\n",
      "- Column \"format\" has 57 unique values.\n",
      "\n"
     ]
    }
   ],
   "source": [
    "for label, dataset in project_pack.dictionary.items():\n",
    "    eda_report = eda.Auto_EDA(dataset)\n",
    "    eda_report.print_eda_report()"
   ]
  }
 ],
 "metadata": {
  "kernelspec": {
   "display_name": "Python (venv)",
   "language": "python",
   "name": "venv"
  },
  "language_info": {
   "codemirror_mode": {
    "name": "ipython",
    "version": 3
   },
   "file_extension": ".py",
   "mimetype": "text/x-python",
   "name": "python",
   "nbconvert_exporter": "python",
   "pygments_lexer": "ipython3",
   "version": "3.13.2"
  }
 },
 "nbformat": 4,
 "nbformat_minor": 2
}
