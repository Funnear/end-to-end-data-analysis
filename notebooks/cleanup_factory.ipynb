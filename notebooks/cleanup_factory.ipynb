{
 "cells": [
  {
   "cell_type": "code",
   "execution_count": 1,
   "metadata": {},
   "outputs": [],
   "source": [
    "import pandas as pd\n",
    "import logging\n",
    "\n",
    "from src import eda, datasets"
   ]
  },
  {
   "cell_type": "code",
   "execution_count": 2,
   "metadata": {},
   "outputs": [],
   "source": [
    "logging.getLogger().setLevel(logging.DEBUG)"
   ]
  },
  {
   "cell_type": "code",
   "execution_count": 3,
   "metadata": {},
   "outputs": [
    {
     "name": "stderr",
     "output_type": "stream",
     "text": [
      "INFO:root:Restoring backup: /Users/bubblegum_doubledrops/Library/Mobile Documents/com~apple~CloudDocs/0prio - Important heavy backups/IronHack/big_projects/end-to-end-data-analysis/datasets/_dataset_pack_end-to-end-data-analysis.json\n",
      "INFO:root:No source provided, restoring from backup: /Users/bubblegum_doubledrops/Library/Mobile Documents/com~apple~CloudDocs/0prio - Important heavy backups/IronHack/big_projects/end-to-end-data-analysis/datasets/df_bandcamp_sales.pkl\n",
      "INFO:root:No source provided, restoring from backup: /Users/bubblegum_doubledrops/Library/Mobile Documents/com~apple~CloudDocs/0prio - Important heavy backups/IronHack/big_projects/end-to-end-data-analysis/datasets/df_discogs_artists.pkl\n",
      "INFO:root:No source provided, restoring from backup: /Users/bubblegum_doubledrops/Library/Mobile Documents/com~apple~CloudDocs/0prio - Important heavy backups/IronHack/big_projects/end-to-end-data-analysis/datasets/df_discogs_releases.pkl\n"
     ]
    }
   ],
   "source": [
    "project_pack = datasets.DatasetPack(restore=True)"
   ]
  },
  {
   "cell_type": "code",
   "execution_count": 4,
   "metadata": {},
   "outputs": [
    {
     "name": "stdout",
     "output_type": "stream",
     "text": [
      "================= df_bandcamp_sales =================\n",
      "<class 'pandas.core.frame.DataFrame'>\n",
      "RangeIndex: 1000000 entries, 0 to 999999\n",
      "Data columns (total 17 columns):\n",
      " #   Column            Non-Null Count    Dtype  \n",
      "---  ------            --------------    -----  \n",
      " 0   _id               1000000 non-null  object \n",
      " 1   item_type         1000000 non-null  object \n",
      " 2   utc_date          1000000 non-null  float64\n",
      " 3   country_code      1000000 non-null  object \n",
      " 4   country           1000000 non-null  object \n",
      " 5   slug_type         988416 non-null   object \n",
      " 6   item_price        1000000 non-null  float64\n",
      " 7   item_description  999977 non-null   object \n",
      " 8   art_id            764520 non-null   float64\n",
      " 9   url               1000000 non-null  object \n",
      " 10  releases          11584 non-null    float64\n",
      " 11  artist_name       999990 non-null   object \n",
      " 12  currency          1000000 non-null  object \n",
      " 13  album_title       356461 non-null   object \n",
      " 14  amount_paid_usd   1000000 non-null  float64\n",
      " 15  amount_over_fmt   119133 non-null   object \n",
      " 16  item_slug         21742 non-null    object \n",
      "dtypes: float64(5), object(12)\n",
      "memory usage: 129.7+ MB\n",
      "\n",
      "================= df_discogs_artists =================\n",
      "<class 'pandas.core.frame.DataFrame'>\n",
      "RangeIndex: 9194907 entries, 0 to 9194906\n",
      "Data columns (total 12 columns):\n",
      " #   Column               Dtype  \n",
      "---  ------               -----  \n",
      " 0   Unnamed: 0           int64  \n",
      " 1   aliases_name         object \n",
      " 2   aliases_name_id      float64\n",
      " 3   artist_data_quality  object \n",
      " 4   artist_id            int64  \n",
      " 5   artist_name          object \n",
      " 6   artist_realname      object \n",
      " 7   groups_name          object \n",
      " 8   groups_name_id       float64\n",
      " 9   members_name         object \n",
      " 10  members_name_id      float64\n",
      " 11  namevariations_name  object \n",
      "dtypes: float64(3), int64(2), object(7)\n",
      "memory usage: 841.8+ MB\n",
      "\n",
      "================= df_discogs_releases =================\n",
      "<class 'pandas.core.frame.DataFrame'>\n",
      "RangeIndex: 17372035 entries, 0 to 17372034\n",
      "Data columns (total 5 columns):\n",
      " #   Column      Dtype  \n",
      "---  ------      -----  \n",
      " 0   release_id  int64  \n",
      " 1   country     object \n",
      " 2   year        float64\n",
      " 3   genre       object \n",
      " 4   format      object \n",
      "dtypes: float64(1), int64(1), object(3)\n",
      "memory usage: 662.7+ MB\n",
      "\n"
     ]
    }
   ],
   "source": [
    "for label, dataset in project_pack.dictionary.items():\n",
    "    print(f\"================= {label} =================\")\n",
    "    dataset.dataframe.info()\n",
    "    print()"
   ]
  },
  {
   "cell_type": "code",
   "execution_count": 5,
   "metadata": {},
   "outputs": [],
   "source": [
    "# TODO: convert to dictionary with labels as keys\n",
    "auto_eda_pack = list()\n",
    "\n",
    "for label, dataset in project_pack.dictionary.items():\n",
    "    eda_report = eda.Auto_EDA(dataset)\n",
    "    auto_eda_pack.append(eda_report)"
   ]
  },
  {
   "cell_type": "code",
   "execution_count": 6,
   "metadata": {},
   "outputs": [
    {
     "name": "stderr",
     "output_type": "stream",
     "text": [
      "INFO:root:================= df_bandcamp_sales =================\n",
      "INFO:root:Number of rows before cleanup: 1000000\n",
      "INFO:root:df_bandcamp_sales has no empty spaces.\n",
      "INFO:root:df_bandcamp_sales has no duplicates.\n",
      "INFO:root:Number of rows after cleanup: 1000000\n",
      "INFO:root:================= df_discogs_artists =================\n",
      "INFO:root:Number of rows before cleanup: 9194907\n",
      "INFO:root:df_discogs_artists has no empty spaces.\n",
      "INFO:root:df_discogs_artists has no duplicates.\n",
      "INFO:root:Number of rows after cleanup: 9194907\n",
      "INFO:root:================= df_discogs_releases =================\n",
      "INFO:root:Number of rows before cleanup: 17372035\n",
      "INFO:root:df_discogs_releases has no empty spaces.\n",
      "INFO:root:df_discogs_releases had duplicates. They had been dropped and index was reset.\n",
      "INFO:root:Number of rows after cleanup: 17246710\n"
     ]
    }
   ],
   "source": [
    "for eda in auto_eda_pack:\n",
    "    logging.info(f\"================= {eda.dataset.label} =================\")\n",
    "    logging.info(f\"Number of rows before cleanup: {eda.init_rows}\")\n",
    "    eda.auto_cleanup()\n",
    "    logging.info(f\"Number of rows after cleanup: {eda.count_rows()}\")"
   ]
  },
  {
   "cell_type": "code",
   "execution_count": 9,
   "metadata": {},
   "outputs": [
    {
     "name": "stdout",
     "output_type": "stream",
     "text": [
      "<class 'pandas.core.frame.DataFrame'>\n",
      "RangeIndex: 17246710 entries, 0 to 17246709\n",
      "Data columns (total 5 columns):\n",
      " #   Column      Dtype  \n",
      "---  ------      -----  \n",
      " 0   release_id  int64  \n",
      " 1   country     object \n",
      " 2   year        float64\n",
      " 3   genre       object \n",
      " 4   format      object \n",
      "dtypes: float64(1), int64(1), object(3)\n",
      "memory usage: 657.9+ MB\n"
     ]
    }
   ],
   "source": [
    "# this code varifies that the cleanup took place in the original data frame restored from pickle:\n",
    "project_pack.dictionary['df_discogs_releases'].dataframe.info()\n",
    "# before: 17372035 rows\n",
    "# after cleanup: 17246710 rows"
   ]
  },
  {
   "cell_type": "code",
   "execution_count": 8,
   "metadata": {},
   "outputs": [
    {
     "name": "stderr",
     "output_type": "stream",
     "text": [
      "INFO:root:Backup file is created: /Users/bubblegum_doubledrops/Library/Mobile Documents/com~apple~CloudDocs/0prio - Important heavy backups/IronHack/big_projects/end-to-end-data-analysis/datasets/df_discogs_releases.pkl\n"
     ]
    }
   ],
   "source": [
    "# now I want to backup the changed data frame:\n",
    "project_pack.dictionary['df_discogs_releases'].backup()"
   ]
  },
  {
   "cell_type": "code",
   "execution_count": 11,
   "metadata": {},
   "outputs": [
    {
     "name": "stdout",
     "output_type": "stream",
     "text": [
      "================= df_bandcamp_sales =================\n",
      "                   is_na   not_na  na_percent na_percent_pretty\n",
      "releases          988416    11584     98.8416            98.84%\n",
      "item_slug         978258    21742     97.8258            97.83%\n",
      "amount_over_fmt   880867   119133     88.0867            88.09%\n",
      "album_title       643539   356461     64.3539            64.35%\n",
      "art_id            235480   764520     23.5480            23.55%\n",
      "slug_type          11584   988416      1.1584             1.16%\n",
      "item_description      23   999977      0.0023             0.00%\n",
      "artist_name           10   999990      0.0010             0.00%\n",
      "_id                    0  1000000      0.0000             0.00%\n",
      "item_type              0  1000000      0.0000             0.00%\n",
      "utc_date               0  1000000      0.0000             0.00%\n",
      "country_code           0  1000000      0.0000             0.00%\n",
      "country                0  1000000      0.0000             0.00%\n",
      "item_price             0  1000000      0.0000             0.00%\n",
      "url                    0  1000000      0.0000             0.00%\n",
      "currency               0  1000000      0.0000             0.00%\n",
      "amount_paid_usd        0  1000000      0.0000             0.00%\n",
      "\n",
      "================= df_discogs_artists =================\n",
      "                       is_na   not_na  na_percent na_percent_pretty\n",
      "aliases_name         8600121   594786   93.531354            93.53%\n",
      "aliases_name_id      8600118   594789   93.531321            93.53%\n",
      "members_name         8591817   603090   93.441043            93.44%\n",
      "members_name_id      8591817   603090   93.441043            93.44%\n",
      "artist_realname      8548249   646658   92.967215            92.97%\n",
      "groups_name          7985597  1209310   86.848045            86.85%\n",
      "groups_name_id       7985596  1209311   86.848034            86.85%\n",
      "namevariations_name  7218547  1976360   78.505927            78.51%\n",
      "artist_name                2  9194905    0.000022             0.00%\n",
      "Unnamed: 0                 0  9194907    0.000000             0.00%\n",
      "artist_data_quality        0  9194907    0.000000             0.00%\n",
      "artist_id                  0  9194907    0.000000             0.00%\n",
      "\n",
      "================= df_discogs_releases =================\n",
      "              is_na    not_na  na_percent na_percent_pretty\n",
      "year        2160351  15086359   12.526163            12.53%\n",
      "country      449975  16796735    2.609048             2.61%\n",
      "genre             3  17246707    0.000017             0.00%\n",
      "release_id        0  17246710    0.000000             0.00%\n",
      "format            0  17246710    0.000000             0.00%\n",
      "\n"
     ]
    }
   ],
   "source": [
    "for eda in auto_eda_pack:\n",
    "    print(f\"================= {eda.dataset.label} =================\")\n",
    "    df_nulls = eda.count_nulls()\n",
    "    print(df_nulls)\n",
    "    print()"
   ]
  },
  {
   "cell_type": "code",
   "execution_count": 12,
   "metadata": {},
   "outputs": [
    {
     "name": "stderr",
     "output_type": "stream",
     "text": [
      "INFO:root:================= df_bandcamp_sales =================\n",
      "INFO:root:Number of columns before cleanup: 17\n",
      "INFO:root:Dropping 3 empty columns: ['releases', 'item_slug', 'amount_over_fmt']\n",
      "INFO:root:Number of columns after cleanup: 14\n",
      "INFO:root:Backing up result dataframe\n",
      "INFO:root:\n",
      "\n",
      "INFO:root:================= df_discogs_artists =================\n",
      "INFO:root:Number of columns before cleanup: 12\n",
      "INFO:root:Dropping 8 empty columns: ['aliases_name', 'aliases_name_id', 'members_name', 'members_name_id', 'artist_realname', 'groups_name', 'groups_name_id', 'namevariations_name']\n",
      "INFO:root:Number of columns after cleanup: 4\n",
      "INFO:root:Backing up result dataframe\n",
      "INFO:root:\n",
      "\n",
      "INFO:root:================= df_discogs_releases =================\n",
      "INFO:root:Number of columns before cleanup: 5\n",
      "INFO:root:Dropping 0 empty columns: []\n",
      "INFO:root:Number of columns after cleanup: 5\n",
      "INFO:root:Backing up result dataframe\n",
      "INFO:root:\n",
      "\n"
     ]
    }
   ],
   "source": [
    "# using the information from dataframes from the previous output,\n",
    "# dropping columns with all null values\n",
    "\n",
    "# manually:\n",
    "# project_pack.dictionary['df_discogs_releases'].dataframe.drop(columns= [\"copy paste from the data frame print\"], inplace=True) \n",
    "\n",
    "treshold = 70\n",
    "\n",
    "# automatically:\n",
    "for eda in auto_eda_pack:\n",
    "    logging.info(f\"================= {eda.dataset.label} =================\")\n",
    "    logging.info(f\"Number of columns before cleanup: {eda.init_cols}\")\n",
    "\n",
    "    # TODO: stop calling the same expensive method over and over\n",
    "    df_nulls = eda.count_nulls()\n",
    "\n",
    "    columns_to_drop = df_nulls[df_nulls['na_percent'] > treshold].index.to_list()\n",
    "    logging.info(f'Dropping {len(columns_to_drop)} empty columns: {columns_to_drop}')\n",
    "    eda.df.drop(columns=columns_to_drop, inplace=True)\n",
    "    logging.info(f\"Number of columns after cleanup: {eda.count_cols()}\")\n",
    "\n",
    "    logging.info(f'Backing up result dataframe')\n",
    "    eda.dataset.backup\n",
    "    logging.info(\"\\n\")\n"
   ]
  },
  {
   "cell_type": "code",
   "execution_count": 13,
   "metadata": {},
   "outputs": [
    {
     "name": "stdout",
     "output_type": "stream",
     "text": [
      "================= df_bandcamp_sales =================\n",
      "                   is_na   not_na  na_percent na_percent_pretty\n",
      "album_title       643539   356461     64.3539            64.35%\n",
      "art_id            235480   764520     23.5480            23.55%\n",
      "slug_type          11584   988416      1.1584             1.16%\n",
      "item_description      23   999977      0.0023             0.00%\n",
      "artist_name           10   999990      0.0010             0.00%\n",
      "_id                    0  1000000      0.0000             0.00%\n",
      "item_type              0  1000000      0.0000             0.00%\n",
      "utc_date               0  1000000      0.0000             0.00%\n",
      "country_code           0  1000000      0.0000             0.00%\n",
      "country                0  1000000      0.0000             0.00%\n",
      "item_price             0  1000000      0.0000             0.00%\n",
      "url                    0  1000000      0.0000             0.00%\n",
      "currency               0  1000000      0.0000             0.00%\n",
      "amount_paid_usd        0  1000000      0.0000             0.00%\n",
      "\n",
      "================= df_discogs_artists =================\n",
      "                     is_na   not_na  na_percent na_percent_pretty\n",
      "artist_name              2  9194905    0.000022             0.00%\n",
      "Unnamed: 0               0  9194907    0.000000             0.00%\n",
      "artist_data_quality      0  9194907    0.000000             0.00%\n",
      "artist_id                0  9194907    0.000000             0.00%\n",
      "\n",
      "================= df_discogs_releases =================\n",
      "              is_na    not_na  na_percent na_percent_pretty\n",
      "year        2160351  15086359   12.526163            12.53%\n",
      "country      449975  16796735    2.609048             2.61%\n",
      "genre             3  17246707    0.000017             0.00%\n",
      "release_id        0  17246710    0.000000             0.00%\n",
      "format            0  17246710    0.000000             0.00%\n",
      "\n"
     ]
    }
   ],
   "source": [
    "for eda in auto_eda_pack:\n",
    "    print(f\"================= {eda.dataset.label} =================\")\n",
    "    df_nulls = eda.count_nulls()\n",
    "    print(df_nulls)\n",
    "    print()"
   ]
  },
  {
   "cell_type": "code",
   "execution_count": 14,
   "metadata": {},
   "outputs": [
    {
     "name": "stdout",
     "output_type": "stream",
     "text": [
      "================= df_bandcamp_sales =================\n",
      "df_bandcamp_sales has shape (1000000, 14)\n",
      "\n",
      "df_bandcamp_sales has numerical data in columns: ['utc_date', 'item_price', 'art_id', 'amount_paid_usd']\n",
      "- Column \"utc_date\" has 999990 unique values.\n",
      "- Column \"art_id\" has 271430 unique values.\n",
      "- Column \"amount_paid_usd\" has 5866 unique values.\n",
      "- Column \"item_price\" has 2878 unique values.\n",
      "\n",
      "df_bandcamp_sales has categorical data in columns: ['_id', 'item_type', 'country_code', 'country', 'slug_type', 'item_description', 'url', 'artist_name', 'currency', 'album_title']\n",
      "- Column \"_id\" has 1000000 unique values.\n",
      "- Column \"item_type\" has 4 unique values.\n",
      "  -- Unique values are:\n",
      " ['a' 'p' 't' 'b']\n",
      "- Column \"country_code\" has 186 unique values.\n",
      "- Column \"country\" has 186 unique values.\n",
      "- Column \"slug_type\" has 3 unique values.\n",
      "  -- Unique values are:\n",
      " ['a' 't' 'p' nan]\n",
      "- Column \"item_description\" has 336985 unique values.\n",
      "- Column \"url\" has 374473 unique values.\n",
      "- Column \"artist_name\" has 159746 unique values.\n",
      "- Column \"currency\" has 18 unique values.\n",
      "  -- Unique values are:\n",
      " ['USD' 'GBP' 'EUR' 'AUD' 'JPY' 'SEK' 'CAD' 'CZK' 'NZD' 'DKK' 'CHF' 'ILS'\n",
      " 'HUF' 'PLN' 'NOK' 'MXN' 'HKD' 'SGD']\n",
      "- Column \"album_title\" has 103697 unique values.\n",
      "\n",
      "================= df_discogs_artists =================\n",
      "df_discogs_artists has shape (9194907, 4)\n",
      "\n",
      "df_discogs_artists has numerical data in columns: ['Unnamed: 0', 'artist_id']\n",
      "- Column \"Unnamed: 0\" has 9194907 unique values.\n",
      "- Column \"artist_id\" has 9194907 unique values.\n",
      "\n",
      "df_discogs_artists has categorical data in columns: ['artist_data_quality', 'artist_name']\n",
      "- Column \"artist_data_quality\" has 6 unique values.\n",
      "  -- Unique values are:\n",
      " ['Needs Vote' 'Correct' 'Needs Major Changes' 'Complete and Correct'\n",
      " 'Needs Minor Changes' 'Entirely Incorrect']\n",
      "- Column \"artist_name\" has 9194896 unique values.\n",
      "\n",
      "================= df_discogs_releases =================\n",
      "df_discogs_releases has shape (17246710, 5)\n",
      "\n",
      "df_discogs_releases has numerical data in columns: ['release_id', 'year']\n",
      "- Column \"release_id\" has 12867979 unique values.\n",
      "- Column \"year\" has 132 unique values.\n",
      "\n",
      "df_discogs_releases has categorical data in columns: ['country', 'genre', 'format']\n",
      "- Column \"country\" has 281 unique values.\n",
      "- Column \"genre\" has 15 unique values.\n",
      "  -- Unique values are:\n",
      " ['Electronic' 'Hip Hop' 'Non-Music' 'Jazz' 'Rock' 'Latin' 'Funk / Soul'\n",
      " 'Stage & Screen' 'Pop' 'Reggae' 'Folk, World, & Country' 'Classical'\n",
      " 'Blues' 'Brass & Military' \"Children's\" nan]\n",
      "- Column \"format\" has 57 unique values.\n",
      "\n"
     ]
    }
   ],
   "source": [
    "for eda in auto_eda_pack:\n",
    "    eda.print_eda_report()"
   ]
  },
  {
   "cell_type": "markdown",
   "metadata": {},
   "source": [
    "### From here onwards:\n",
    "Due to the project deadline src package modules are used in a limited way and are subject to refactoring somewhen in future."
   ]
  },
  {
   "cell_type": "code",
   "execution_count": 15,
   "metadata": {},
   "outputs": [
    {
     "name": "stdout",
     "output_type": "stream",
     "text": [
      "Copy the output as code to run in the next cell\n",
      "df_bandcamp_sales = project_pack.dictionary['df_bandcamp_sales'].dataframe\n",
      "df_discogs_artists = project_pack.dictionary['df_discogs_artists'].dataframe\n",
      "df_discogs_releases = project_pack.dictionary['df_discogs_releases'].dataframe\n"
     ]
    }
   ],
   "source": [
    "print(\"Copy the output as code to run in the next cell\")\n",
    "# TODO: implement DatasetPack.labels() to return a list\n",
    "for label in project_pack.dictionary.keys():\n",
    "    print(f\"{label} = project_pack.dictionary['{label}'].dataframe\")"
   ]
  },
  {
   "cell_type": "code",
   "execution_count": 16,
   "metadata": {},
   "outputs": [],
   "source": [
    "df_bandcamp_sales = project_pack.dictionary['df_bandcamp_sales'].dataframe\n",
    "df_discogs_artists = project_pack.dictionary['df_discogs_artists'].dataframe\n",
    "df_discogs_releases = project_pack.dictionary['df_discogs_releases'].dataframe"
   ]
  },
  {
   "cell_type": "code",
   "execution_count": 21,
   "metadata": {},
   "outputs": [
    {
     "name": "stdout",
     "output_type": "stream",
     "text": [
      "Copy the output as code to run in the next cell\n",
      "num_cols_df_bandcamp_sales = ['utc_date', 'item_price', 'art_id', 'amount_paid_usd']\n",
      "num_cols_df_discogs_artists = ['Unnamed: 0', 'artist_id']\n",
      "num_cols_df_discogs_releases = ['release_id', 'year']\n"
     ]
    }
   ],
   "source": [
    "print(\"Copy the output as code to run in the next cell\")\n",
    "for eda in auto_eda_pack:\n",
    "    print(f\"num_cols_{eda.dataset.label} = {eda.get_numerical_columns()}\")"
   ]
  },
  {
   "cell_type": "code",
   "execution_count": 22,
   "metadata": {},
   "outputs": [],
   "source": [
    "num_cols_df_bandcamp_sales = ['utc_date', 'item_price', 'art_id', 'amount_paid_usd']\n",
    "num_cols_df_discogs_artists = ['Unnamed: 0', 'artist_id']\n",
    "num_cols_df_discogs_releases = ['release_id', 'year']"
   ]
  },
  {
   "cell_type": "code",
   "execution_count": 19,
   "metadata": {},
   "outputs": [
    {
     "name": "stdout",
     "output_type": "stream",
     "text": [
      "Copy the output as code to run in the next separate cells,\n",
      " each for one line\n",
      "df_bandcamp_sales[num_cols_df_bandcamp_sales]\n",
      "df_bandcamp_sales[num_cols_df_bandcamp_sales].describe().T\n",
      "df_discogs_artists[num_cols_df_discogs_artists]\n",
      "df_discogs_artists[num_cols_df_discogs_artists].describe().T\n",
      "df_discogs_releases[num_cols_df_discogs_releases]\n",
      "df_discogs_releases[num_cols_df_discogs_releases].describe().T\n"
     ]
    }
   ],
   "source": [
    "print(\"Copy the output as code to run in the next separate cells,\\n each for one line\")\n",
    "for eda in auto_eda_pack:\n",
    "    print(f\"{eda.dataset.label}[num_cols_{eda.dataset.label}]\")\n",
    "    print(f\"{eda.dataset.label}[num_cols_{eda.dataset.label}].describe().T\")"
   ]
  },
  {
   "cell_type": "markdown",
   "metadata": {},
   "source": [
    "## Descriptive statistics for numerical data"
   ]
  },
  {
   "cell_type": "markdown",
   "metadata": {},
   "source": [
    "### Columns with continuous data\n",
    "\n",
    "### Columns with descrete data"
   ]
  },
  {
   "cell_type": "code",
   "execution_count": 23,
   "metadata": {},
   "outputs": [
    {
     "data": {
      "text/html": [
       "<div>\n",
       "<style scoped>\n",
       "    .dataframe tbody tr th:only-of-type {\n",
       "        vertical-align: middle;\n",
       "    }\n",
       "\n",
       "    .dataframe tbody tr th {\n",
       "        vertical-align: top;\n",
       "    }\n",
       "\n",
       "    .dataframe thead th {\n",
       "        text-align: right;\n",
       "    }\n",
       "</style>\n",
       "<table border=\"1\" class=\"dataframe\">\n",
       "  <thead>\n",
       "    <tr style=\"text-align: right;\">\n",
       "      <th></th>\n",
       "      <th>utc_date</th>\n",
       "      <th>item_price</th>\n",
       "      <th>art_id</th>\n",
       "      <th>amount_paid_usd</th>\n",
       "    </tr>\n",
       "  </thead>\n",
       "  <tbody>\n",
       "    <tr>\n",
       "      <th>0</th>\n",
       "      <td>1.599689e+09</td>\n",
       "      <td>9.990000</td>\n",
       "      <td>2.064053e+08</td>\n",
       "      <td>9.99</td>\n",
       "    </tr>\n",
       "    <tr>\n",
       "      <th>1</th>\n",
       "      <td>1.599689e+09</td>\n",
       "      <td>1.000000</td>\n",
       "      <td>2.984242e+09</td>\n",
       "      <td>1.30</td>\n",
       "    </tr>\n",
       "    <tr>\n",
       "      <th>2</th>\n",
       "      <td>1.599689e+09</td>\n",
       "      <td>3.000000</td>\n",
       "      <td>3.320495e+09</td>\n",
       "      <td>3.90</td>\n",
       "    </tr>\n",
       "    <tr>\n",
       "      <th>3</th>\n",
       "      <td>1.599689e+09</td>\n",
       "      <td>10.500000</td>\n",
       "      <td>NaN</td>\n",
       "      <td>12.39</td>\n",
       "    </tr>\n",
       "    <tr>\n",
       "      <th>4</th>\n",
       "      <td>1.599689e+09</td>\n",
       "      <td>1.000000</td>\n",
       "      <td>3.428873e+09</td>\n",
       "      <td>1.00</td>\n",
       "    </tr>\n",
       "    <tr>\n",
       "      <th>...</th>\n",
       "      <td>...</td>\n",
       "      <td>...</td>\n",
       "      <td>...</td>\n",
       "      <td>...</td>\n",
       "    </tr>\n",
       "    <tr>\n",
       "      <th>999995</th>\n",
       "      <td>1.601647e+09</td>\n",
       "      <td>20.000000</td>\n",
       "      <td>NaN</td>\n",
       "      <td>20.00</td>\n",
       "    </tr>\n",
       "    <tr>\n",
       "      <th>999996</th>\n",
       "      <td>1.601647e+09</td>\n",
       "      <td>20.200001</td>\n",
       "      <td>3.708391e+09</td>\n",
       "      <td>20.20</td>\n",
       "    </tr>\n",
       "    <tr>\n",
       "      <th>999997</th>\n",
       "      <td>1.601647e+09</td>\n",
       "      <td>0.000000</td>\n",
       "      <td>3.580857e+08</td>\n",
       "      <td>1.00</td>\n",
       "    </tr>\n",
       "    <tr>\n",
       "      <th>999998</th>\n",
       "      <td>1.601647e+09</td>\n",
       "      <td>6.000000</td>\n",
       "      <td>NaN</td>\n",
       "      <td>6.00</td>\n",
       "    </tr>\n",
       "    <tr>\n",
       "      <th>999999</th>\n",
       "      <td>1.601647e+09</td>\n",
       "      <td>30.000000</td>\n",
       "      <td>NaN</td>\n",
       "      <td>38.59</td>\n",
       "    </tr>\n",
       "  </tbody>\n",
       "</table>\n",
       "<p>1000000 rows × 4 columns</p>\n",
       "</div>"
      ],
      "text/plain": [
       "            utc_date  item_price        art_id  amount_paid_usd\n",
       "0       1.599689e+09    9.990000  2.064053e+08             9.99\n",
       "1       1.599689e+09    1.000000  2.984242e+09             1.30\n",
       "2       1.599689e+09    3.000000  3.320495e+09             3.90\n",
       "3       1.599689e+09   10.500000           NaN            12.39\n",
       "4       1.599689e+09    1.000000  3.428873e+09             1.00\n",
       "...              ...         ...           ...              ...\n",
       "999995  1.601647e+09   20.000000           NaN            20.00\n",
       "999996  1.601647e+09   20.200001  3.708391e+09            20.20\n",
       "999997  1.601647e+09    0.000000  3.580857e+08             1.00\n",
       "999998  1.601647e+09    6.000000           NaN             6.00\n",
       "999999  1.601647e+09   30.000000           NaN            38.59\n",
       "\n",
       "[1000000 rows x 4 columns]"
      ]
     },
     "execution_count": 23,
     "metadata": {},
     "output_type": "execute_result"
    }
   ],
   "source": [
    "df_bandcamp_sales[num_cols_df_bandcamp_sales]"
   ]
  },
  {
   "cell_type": "code",
   "execution_count": 24,
   "metadata": {},
   "outputs": [
    {
     "data": {
      "text/html": [
       "<div>\n",
       "<style scoped>\n",
       "    .dataframe tbody tr th:only-of-type {\n",
       "        vertical-align: middle;\n",
       "    }\n",
       "\n",
       "    .dataframe tbody tr th {\n",
       "        vertical-align: top;\n",
       "    }\n",
       "\n",
       "    .dataframe thead th {\n",
       "        text-align: right;\n",
       "    }\n",
       "</style>\n",
       "<table border=\"1\" class=\"dataframe\">\n",
       "  <thead>\n",
       "    <tr style=\"text-align: right;\">\n",
       "      <th></th>\n",
       "      <th>count</th>\n",
       "      <th>mean</th>\n",
       "      <th>std</th>\n",
       "      <th>min</th>\n",
       "      <th>25%</th>\n",
       "      <th>50%</th>\n",
       "      <th>75%</th>\n",
       "      <th>max</th>\n",
       "    </tr>\n",
       "  </thead>\n",
       "  <tbody>\n",
       "    <tr>\n",
       "      <th>utc_date</th>\n",
       "      <td>1000000.0</td>\n",
       "      <td>1.600750e+09</td>\n",
       "      <td>6.049259e+05</td>\n",
       "      <td>1.599689e+09</td>\n",
       "      <td>1.600237e+09</td>\n",
       "      <td>1.600778e+09</td>\n",
       "      <td>1.601288e+09</td>\n",
       "      <td>1.601647e+09</td>\n",
       "    </tr>\n",
       "    <tr>\n",
       "      <th>item_price</th>\n",
       "      <td>1000000.0</td>\n",
       "      <td>1.547552e+01</td>\n",
       "      <td>1.217200e+02</td>\n",
       "      <td>0.000000e+00</td>\n",
       "      <td>1.000000e+00</td>\n",
       "      <td>5.000000e+00</td>\n",
       "      <td>1.000000e+01</td>\n",
       "      <td>2.976000e+04</td>\n",
       "    </tr>\n",
       "    <tr>\n",
       "      <th>art_id</th>\n",
       "      <td>764520.0</td>\n",
       "      <td>2.141628e+09</td>\n",
       "      <td>1.241930e+09</td>\n",
       "      <td>2.018000e+04</td>\n",
       "      <td>1.057849e+09</td>\n",
       "      <td>2.137613e+09</td>\n",
       "      <td>3.228946e+09</td>\n",
       "      <td>4.294959e+09</td>\n",
       "    </tr>\n",
       "    <tr>\n",
       "      <th>amount_paid_usd</th>\n",
       "      <td>1000000.0</td>\n",
       "      <td>8.931315e+00</td>\n",
       "      <td>1.249008e+01</td>\n",
       "      <td>2.000000e-01</td>\n",
       "      <td>2.000000e+00</td>\n",
       "      <td>6.000000e+00</td>\n",
       "      <td>1.163000e+01</td>\n",
       "      <td>1.286260e+03</td>\n",
       "    </tr>\n",
       "  </tbody>\n",
       "</table>\n",
       "</div>"
      ],
      "text/plain": [
       "                     count          mean           std           min  \\\n",
       "utc_date         1000000.0  1.600750e+09  6.049259e+05  1.599689e+09   \n",
       "item_price       1000000.0  1.547552e+01  1.217200e+02  0.000000e+00   \n",
       "art_id            764520.0  2.141628e+09  1.241930e+09  2.018000e+04   \n",
       "amount_paid_usd  1000000.0  8.931315e+00  1.249008e+01  2.000000e-01   \n",
       "\n",
       "                          25%           50%           75%           max  \n",
       "utc_date         1.600237e+09  1.600778e+09  1.601288e+09  1.601647e+09  \n",
       "item_price       1.000000e+00  5.000000e+00  1.000000e+01  2.976000e+04  \n",
       "art_id           1.057849e+09  2.137613e+09  3.228946e+09  4.294959e+09  \n",
       "amount_paid_usd  2.000000e+00  6.000000e+00  1.163000e+01  1.286260e+03  "
      ]
     },
     "execution_count": 24,
     "metadata": {},
     "output_type": "execute_result"
    }
   ],
   "source": [
    "df_bandcamp_sales[num_cols_df_bandcamp_sales].describe().T"
   ]
  },
  {
   "cell_type": "code",
   "execution_count": 25,
   "metadata": {},
   "outputs": [
    {
     "data": {
      "text/html": [
       "<div>\n",
       "<style scoped>\n",
       "    .dataframe tbody tr th:only-of-type {\n",
       "        vertical-align: middle;\n",
       "    }\n",
       "\n",
       "    .dataframe tbody tr th {\n",
       "        vertical-align: top;\n",
       "    }\n",
       "\n",
       "    .dataframe thead th {\n",
       "        text-align: right;\n",
       "    }\n",
       "</style>\n",
       "<table border=\"1\" class=\"dataframe\">\n",
       "  <thead>\n",
       "    <tr style=\"text-align: right;\">\n",
       "      <th></th>\n",
       "      <th>Unnamed: 0</th>\n",
       "      <th>artist_id</th>\n",
       "    </tr>\n",
       "  </thead>\n",
       "  <tbody>\n",
       "    <tr>\n",
       "      <th>0</th>\n",
       "      <td>0</td>\n",
       "      <td>1</td>\n",
       "    </tr>\n",
       "    <tr>\n",
       "      <th>1</th>\n",
       "      <td>1</td>\n",
       "      <td>2</td>\n",
       "    </tr>\n",
       "    <tr>\n",
       "      <th>2</th>\n",
       "      <td>2</td>\n",
       "      <td>3</td>\n",
       "    </tr>\n",
       "    <tr>\n",
       "      <th>3</th>\n",
       "      <td>3</td>\n",
       "      <td>4</td>\n",
       "    </tr>\n",
       "    <tr>\n",
       "      <th>4</th>\n",
       "      <td>4</td>\n",
       "      <td>5</td>\n",
       "    </tr>\n",
       "    <tr>\n",
       "      <th>...</th>\n",
       "      <td>...</td>\n",
       "      <td>...</td>\n",
       "    </tr>\n",
       "    <tr>\n",
       "      <th>9194902</th>\n",
       "      <td>9194902</td>\n",
       "      <td>1275492</td>\n",
       "    </tr>\n",
       "    <tr>\n",
       "      <th>9194903</th>\n",
       "      <td>9194903</td>\n",
       "      <td>1275493</td>\n",
       "    </tr>\n",
       "    <tr>\n",
       "      <th>9194904</th>\n",
       "      <td>9194904</td>\n",
       "      <td>1275494</td>\n",
       "    </tr>\n",
       "    <tr>\n",
       "      <th>9194905</th>\n",
       "      <td>9194905</td>\n",
       "      <td>1275498</td>\n",
       "    </tr>\n",
       "    <tr>\n",
       "      <th>9194906</th>\n",
       "      <td>9194906</td>\n",
       "      <td>1275500</td>\n",
       "    </tr>\n",
       "  </tbody>\n",
       "</table>\n",
       "<p>9194907 rows × 2 columns</p>\n",
       "</div>"
      ],
      "text/plain": [
       "         Unnamed: 0  artist_id\n",
       "0                 0          1\n",
       "1                 1          2\n",
       "2                 2          3\n",
       "3                 3          4\n",
       "4                 4          5\n",
       "...             ...        ...\n",
       "9194902     9194902    1275492\n",
       "9194903     9194903    1275493\n",
       "9194904     9194904    1275494\n",
       "9194905     9194905    1275498\n",
       "9194906     9194906    1275500\n",
       "\n",
       "[9194907 rows x 2 columns]"
      ]
     },
     "execution_count": 25,
     "metadata": {},
     "output_type": "execute_result"
    }
   ],
   "source": [
    "df_discogs_artists[num_cols_df_discogs_artists]"
   ]
  },
  {
   "cell_type": "code",
   "execution_count": 26,
   "metadata": {},
   "outputs": [
    {
     "data": {
      "text/html": [
       "<div>\n",
       "<style scoped>\n",
       "    .dataframe tbody tr th:only-of-type {\n",
       "        vertical-align: middle;\n",
       "    }\n",
       "\n",
       "    .dataframe tbody tr th {\n",
       "        vertical-align: top;\n",
       "    }\n",
       "\n",
       "    .dataframe thead th {\n",
       "        text-align: right;\n",
       "    }\n",
       "</style>\n",
       "<table border=\"1\" class=\"dataframe\">\n",
       "  <thead>\n",
       "    <tr style=\"text-align: right;\">\n",
       "      <th></th>\n",
       "      <th>release_id</th>\n",
       "      <th>year</th>\n",
       "    </tr>\n",
       "  </thead>\n",
       "  <tbody>\n",
       "    <tr>\n",
       "      <th>0</th>\n",
       "      <td>1</td>\n",
       "      <td>1999.0</td>\n",
       "    </tr>\n",
       "    <tr>\n",
       "      <th>1</th>\n",
       "      <td>2</td>\n",
       "      <td>1998.0</td>\n",
       "    </tr>\n",
       "    <tr>\n",
       "      <th>2</th>\n",
       "      <td>3</td>\n",
       "      <td>1999.0</td>\n",
       "    </tr>\n",
       "    <tr>\n",
       "      <th>3</th>\n",
       "      <td>4</td>\n",
       "      <td>1999.0</td>\n",
       "    </tr>\n",
       "    <tr>\n",
       "      <th>4</th>\n",
       "      <td>5</td>\n",
       "      <td>1995.0</td>\n",
       "    </tr>\n",
       "    <tr>\n",
       "      <th>...</th>\n",
       "      <td>...</td>\n",
       "      <td>...</td>\n",
       "    </tr>\n",
       "    <tr>\n",
       "      <th>17246705</th>\n",
       "      <td>15731745</td>\n",
       "      <td>1980.0</td>\n",
       "    </tr>\n",
       "    <tr>\n",
       "      <th>17246706</th>\n",
       "      <td>15731748</td>\n",
       "      <td>1975.0</td>\n",
       "    </tr>\n",
       "    <tr>\n",
       "      <th>17246707</th>\n",
       "      <td>15731752</td>\n",
       "      <td>2020.0</td>\n",
       "    </tr>\n",
       "    <tr>\n",
       "      <th>17246708</th>\n",
       "      <td>15731758</td>\n",
       "      <td>2007.0</td>\n",
       "    </tr>\n",
       "    <tr>\n",
       "      <th>17246709</th>\n",
       "      <td>15731760</td>\n",
       "      <td>2006.0</td>\n",
       "    </tr>\n",
       "  </tbody>\n",
       "</table>\n",
       "<p>17246710 rows × 2 columns</p>\n",
       "</div>"
      ],
      "text/plain": [
       "          release_id    year\n",
       "0                  1  1999.0\n",
       "1                  2  1998.0\n",
       "2                  3  1999.0\n",
       "3                  4  1999.0\n",
       "4                  5  1995.0\n",
       "...              ...     ...\n",
       "17246705    15731745  1980.0\n",
       "17246706    15731748  1975.0\n",
       "17246707    15731752  2020.0\n",
       "17246708    15731758  2007.0\n",
       "17246709    15731760  2006.0\n",
       "\n",
       "[17246710 rows x 2 columns]"
      ]
     },
     "execution_count": 26,
     "metadata": {},
     "output_type": "execute_result"
    }
   ],
   "source": [
    "df_discogs_releases[num_cols_df_discogs_releases]"
   ]
  },
  {
   "cell_type": "code",
   "execution_count": 27,
   "metadata": {},
   "outputs": [
    {
     "data": {
      "text/html": [
       "<div>\n",
       "<style scoped>\n",
       "    .dataframe tbody tr th:only-of-type {\n",
       "        vertical-align: middle;\n",
       "    }\n",
       "\n",
       "    .dataframe tbody tr th {\n",
       "        vertical-align: top;\n",
       "    }\n",
       "\n",
       "    .dataframe thead th {\n",
       "        text-align: right;\n",
       "    }\n",
       "</style>\n",
       "<table border=\"1\" class=\"dataframe\">\n",
       "  <thead>\n",
       "    <tr style=\"text-align: right;\">\n",
       "      <th></th>\n",
       "      <th>count</th>\n",
       "      <th>mean</th>\n",
       "      <th>std</th>\n",
       "      <th>min</th>\n",
       "      <th>25%</th>\n",
       "      <th>50%</th>\n",
       "      <th>75%</th>\n",
       "      <th>max</th>\n",
       "    </tr>\n",
       "  </thead>\n",
       "  <tbody>\n",
       "    <tr>\n",
       "      <th>release_id</th>\n",
       "      <td>17246710.0</td>\n",
       "      <td>7.828094e+06</td>\n",
       "      <td>4.545709e+06</td>\n",
       "      <td>1.0</td>\n",
       "      <td>3810774.0</td>\n",
       "      <td>7729440.5</td>\n",
       "      <td>11836531.5</td>\n",
       "      <td>15731760.0</td>\n",
       "    </tr>\n",
       "    <tr>\n",
       "      <th>year</th>\n",
       "      <td>15086359.0</td>\n",
       "      <td>1.995260e+03</td>\n",
       "      <td>1.786837e+01</td>\n",
       "      <td>1860.0</td>\n",
       "      <td>1983.0</td>\n",
       "      <td>1998.0</td>\n",
       "      <td>2010.0</td>\n",
       "      <td>2021.0</td>\n",
       "    </tr>\n",
       "  </tbody>\n",
       "</table>\n",
       "</div>"
      ],
      "text/plain": [
       "                 count          mean           std     min        25%  \\\n",
       "release_id  17246710.0  7.828094e+06  4.545709e+06     1.0  3810774.0   \n",
       "year        15086359.0  1.995260e+03  1.786837e+01  1860.0     1983.0   \n",
       "\n",
       "                  50%         75%         max  \n",
       "release_id  7729440.5  11836531.5  15731760.0  \n",
       "year           1998.0      2010.0      2021.0  "
      ]
     },
     "execution_count": 27,
     "metadata": {},
     "output_type": "execute_result"
    }
   ],
   "source": [
    "df_discogs_releases[num_cols_df_discogs_releases].describe().T"
   ]
  },
  {
   "cell_type": "markdown",
   "metadata": {},
   "source": [
    "## Descriptive statistics for categorical data"
   ]
  },
  {
   "cell_type": "markdown",
   "metadata": {},
   "source": [
    "### Columns with nominal values:\n",
    "\n",
    "\n",
    "### Columns with ordinal values:\n",
    "\n",
    "\n"
   ]
  }
 ],
 "metadata": {
  "kernelspec": {
   "display_name": "Python (venv)",
   "language": "python",
   "name": "venv"
  },
  "language_info": {
   "codemirror_mode": {
    "name": "ipython",
    "version": 3
   },
   "file_extension": ".py",
   "mimetype": "text/x-python",
   "name": "python",
   "nbconvert_exporter": "python",
   "pygments_lexer": "ipython3",
   "version": "3.13.2"
  }
 },
 "nbformat": 4,
 "nbformat_minor": 2
}
