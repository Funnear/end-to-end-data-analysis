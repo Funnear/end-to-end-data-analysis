{
 "cells": [
  {
   "cell_type": "code",
   "execution_count": 1,
   "metadata": {},
   "outputs": [],
   "source": [
    "import pandas as pd\n",
    "import logging\n",
    "\n",
    "from src import eda, datasets"
   ]
  },
  {
   "cell_type": "code",
   "execution_count": 2,
   "metadata": {},
   "outputs": [],
   "source": [
    "logging.getLogger().setLevel(logging.DEBUG)"
   ]
  },
  {
   "cell_type": "code",
   "execution_count": 3,
   "metadata": {},
   "outputs": [
    {
     "name": "stderr",
     "output_type": "stream",
     "text": [
      "INFO:root:Restoring backup: /Users/bubblegum_doubledrops/Library/Mobile Documents/com~apple~CloudDocs/0prio - Important heavy backups/IronHack/big_projects/end-to-end-data-analysis/datasets/_dataset_pack_end-to-end-data-analysis.json\n",
      "INFO:root:No source provided, restoring from backup: /Users/bubblegum_doubledrops/Library/Mobile Documents/com~apple~CloudDocs/0prio - Important heavy backups/IronHack/big_projects/end-to-end-data-analysis/datasets/df_bandcamp_sales.pkl\n",
      "INFO:root:No source provided, restoring from backup: /Users/bubblegum_doubledrops/Library/Mobile Documents/com~apple~CloudDocs/0prio - Important heavy backups/IronHack/big_projects/end-to-end-data-analysis/datasets/df_discogs_artists.pkl\n",
      "INFO:root:No source provided, restoring from backup: /Users/bubblegum_doubledrops/Library/Mobile Documents/com~apple~CloudDocs/0prio - Important heavy backups/IronHack/big_projects/end-to-end-data-analysis/datasets/df_discogs_releases.pkl\n"
     ]
    }
   ],
   "source": [
    "project_pack = datasets.DatasetPack(restore=True)"
   ]
  },
  {
   "cell_type": "code",
   "execution_count": 4,
   "metadata": {},
   "outputs": [
    {
     "name": "stdout",
     "output_type": "stream",
     "text": [
      "================= df_bandcamp_sales =================\n",
      "<class 'pandas.core.frame.DataFrame'>\n",
      "RangeIndex: 1000000 entries, 0 to 999999\n",
      "Data columns (total 23 columns):\n",
      " #   Column                 Non-Null Count    Dtype  \n",
      "---  ------                 --------------    -----  \n",
      " 0   _id                    1000000 non-null  object \n",
      " 1   art_url                1000000 non-null  object \n",
      " 2   item_type              1000000 non-null  object \n",
      " 3   utc_date               1000000 non-null  float64\n",
      " 4   country_code           1000000 non-null  object \n",
      " 5   track_album_slug_text  2237 non-null     object \n",
      " 6   country                1000000 non-null  object \n",
      " 7   slug_type              988416 non-null   object \n",
      " 8   amount_paid_fmt        1000000 non-null  object \n",
      " 9   item_price             1000000 non-null  float64\n",
      " 10  item_description       999977 non-null   object \n",
      " 11  art_id                 764520 non-null   float64\n",
      " 12  url                    1000000 non-null  object \n",
      " 13  amount_paid            1000000 non-null  float64\n",
      " 14  releases               11584 non-null    float64\n",
      " 15  artist_name            999990 non-null   object \n",
      " 16  currency               1000000 non-null  object \n",
      " 17  album_title            356461 non-null   object \n",
      " 18  amount_paid_usd        1000000 non-null  float64\n",
      " 19  package_image_id       232708 non-null   float64\n",
      " 20  amount_over_fmt        119133 non-null   object \n",
      " 21  item_slug              21742 non-null    object \n",
      " 22  addl_count             21742 non-null    float64\n",
      "dtypes: float64(8), object(15)\n",
      "memory usage: 175.5+ MB\n",
      "\n",
      "================= df_discogs_artists =================\n",
      "<class 'pandas.core.frame.DataFrame'>\n",
      "RangeIndex: 9194907 entries, 0 to 9194906\n",
      "Data columns (total 14 columns):\n",
      " #   Column               Dtype  \n",
      "---  ------               -----  \n",
      " 0   Unnamed: 0           int64  \n",
      " 1   aliases_name         object \n",
      " 2   aliases_name_id      float64\n",
      " 3   artist_data_quality  object \n",
      " 4   artist_id            int64  \n",
      " 5   artist_name          object \n",
      " 6   artist_profile       object \n",
      " 7   artist_realname      object \n",
      " 8   groups_name          object \n",
      " 9   groups_name_id       float64\n",
      " 10  members_name         object \n",
      " 11  members_name_id      float64\n",
      " 12  namevariations_name  object \n",
      " 13  urls_url             object \n",
      "dtypes: float64(3), int64(2), object(9)\n",
      "memory usage: 982.1+ MB\n",
      "\n",
      "================= df_discogs_releases =================\n",
      "<class 'pandas.core.frame.DataFrame'>\n",
      "RangeIndex: 17372035 entries, 0 to 17372034\n",
      "Data columns (total 5 columns):\n",
      " #   Column      Dtype  \n",
      "---  ------      -----  \n",
      " 0   release_id  int64  \n",
      " 1   country     object \n",
      " 2   year        float64\n",
      " 3   genre       object \n",
      " 4   format      object \n",
      "dtypes: float64(1), int64(1), object(3)\n",
      "memory usage: 662.7+ MB\n",
      "\n"
     ]
    }
   ],
   "source": [
    "for label, dataset in project_pack.dictionary.items():\n",
    "    print(f\"================= {label} =================\")\n",
    "    dataset.dataframe.info()\n",
    "    print()"
   ]
  },
  {
   "cell_type": "code",
   "execution_count": 4,
   "metadata": {},
   "outputs": [],
   "source": [
    "auto_eda_pack = list()\n",
    "\n",
    "for label, dataset in project_pack.dictionary.items():\n",
    "    eda_report = eda.Auto_EDA(dataset)\n",
    "    auto_eda_pack.append(eda_report)"
   ]
  },
  {
   "cell_type": "code",
   "execution_count": 5,
   "metadata": {},
   "outputs": [
    {
     "name": "stderr",
     "output_type": "stream",
     "text": [
      "INFO:root:df_bandcamp_sales has no empty spaces.\n",
      "INFO:root:df_bandcamp_sales has no duplicates.\n",
      "INFO:root:df_discogs_artists has no empty spaces.\n",
      "INFO:root:df_discogs_artists has no duplicates.\n",
      "INFO:root:df_discogs_releases has no empty spaces.\n",
      "INFO:root:df_discogs_releases had duplicates. They had been dropped and index was reset.\n"
     ]
    }
   ],
   "source": [
    "for eda in auto_eda_pack:\n",
    "    eda.auto_cleanup()"
   ]
  },
  {
   "cell_type": "code",
   "execution_count": null,
   "metadata": {},
   "outputs": [
    {
     "name": "stdout",
     "output_type": "stream",
     "text": [
      "<class 'pandas.core.frame.DataFrame'>\n",
      "RangeIndex: 17246710 entries, 0 to 17246709\n",
      "Data columns (total 5 columns):\n",
      " #   Column      Dtype  \n",
      "---  ------      -----  \n",
      " 0   release_id  int64  \n",
      " 1   country     object \n",
      " 2   year        float64\n",
      " 3   genre       object \n",
      " 4   format      object \n",
      "dtypes: float64(1), int64(1), object(3)\n",
      "memory usage: 657.9+ MB\n"
     ]
    }
   ],
   "source": [
    "# this code varifies that the cleanup took place in the original data frame restored from pickle:\n",
    "project_pack.dictionary['df_discogs_releases'].dataframe.info()\n",
    "# before: 17372035 rows\n",
    "# after cleanup: 17246710 rows"
   ]
  },
  {
   "cell_type": "code",
   "execution_count": 7,
   "metadata": {},
   "outputs": [
    {
     "name": "stderr",
     "output_type": "stream",
     "text": [
      "INFO:root:Backup file is created: /Users/bubblegum_doubledrops/Library/Mobile Documents/com~apple~CloudDocs/0prio - Important heavy backups/IronHack/big_projects/end-to-end-data-analysis/datasets/df_discogs_releases.pkl\n"
     ]
    }
   ],
   "source": [
    "# now I want to backup the changed data frame:\n",
    "project_pack.dictionary['df_discogs_releases'].backup()"
   ]
  },
  {
   "cell_type": "code",
   "execution_count": 5,
   "metadata": {},
   "outputs": [
    {
     "name": "stdout",
     "output_type": "stream",
     "text": [
      "================= df_bandcamp_sales =================\n",
      "df_bandcamp_sales has shape (1000000, 23)\n",
      "\n",
      "df_bandcamp_sales has numerical data in columns: ['utc_date', 'item_price', 'art_id', 'amount_paid', 'releases', 'amount_paid_usd', 'package_image_id', 'addl_count']\n",
      "- Column \"utc_date\" has 999990 unique values.\n",
      "- Column \"item_price\" has 2878 unique values.\n",
      "- Column \"art_id\" has 271430 unique values.\n",
      "- Column \"amount_paid\" has 3315 unique values.\n",
      "- Column \"releases\" has 220 unique values.\n",
      "- Column \"amount_paid_usd\" has 5866 unique values.\n",
      "- Column \"package_image_id\" has 63940 unique values.\n",
      "- Column \"addl_count\" has 17 unique values.\n",
      "\n",
      "df_bandcamp_sales has categorical data in columns: ['_id', 'art_url', 'item_type', 'country_code', 'track_album_slug_text', 'country', 'slug_type', 'amount_paid_fmt', 'item_description', 'url', 'artist_name', 'currency', 'album_title', 'amount_over_fmt', 'item_slug']\n",
      "- Column \"_id\" has 1000000 unique values.\n",
      "- Column \"art_url\" has 335212 unique values.\n",
      "- Column \"item_type\" has 4 unique values.\n",
      "- Column \"country_code\" has 186 unique values.\n",
      "- Column \"track_album_slug_text\" has 792 unique values.\n",
      "- Column \"country\" has 186 unique values.\n",
      "- Column \"slug_type\" has 3 unique values.\n",
      "- Column \"amount_paid_fmt\" has 7127 unique values.\n",
      "- Column \"item_description\" has 336985 unique values.\n",
      "- Column \"url\" has 374473 unique values.\n",
      "- Column \"artist_name\" has 159746 unique values.\n",
      "- Column \"currency\" has 18 unique values.\n",
      "- Column \"album_title\" has 103697 unique values.\n",
      "- Column \"amount_over_fmt\" has 3084 unique values.\n",
      "- Column \"item_slug\" has 156 unique values.\n",
      "\n",
      "================= df_discogs_artists =================\n",
      "df_discogs_artists has shape (9194907, 14)\n",
      "\n",
      "df_discogs_artists has numerical data in columns: ['Unnamed: 0', 'aliases_name_id', 'artist_id', 'groups_name_id', 'members_name_id']\n",
      "- Column \"Unnamed: 0\" has 9194907 unique values.\n",
      "- Column \"aliases_name_id\" has 479617 unique values.\n",
      "- Column \"artist_id\" has 9194907 unique values.\n",
      "- Column \"groups_name_id\" has 449588 unique values.\n",
      "- Column \"members_name_id\" has 450795 unique values.\n",
      "\n",
      "df_discogs_artists has categorical data in columns: ['aliases_name', 'artist_data_quality', 'artist_name', 'artist_profile', 'artist_realname', 'groups_name', 'members_name', 'namevariations_name', 'urls_url']\n",
      "- Column \"aliases_name\" has 479615 unique values.\n",
      "- Column \"artist_data_quality\" has 6 unique values.\n",
      "- Column \"artist_name\" has 9194896 unique values.\n",
      "- Column \"artist_profile\" has 1389629 unique values.\n",
      "- Column \"artist_realname\" has 541891 unique values.\n",
      "- Column \"groups_name\" has 449587 unique values.\n",
      "- Column \"members_name\" has 450795 unique values.\n",
      "- Column \"namevariations_name\" has 1582994 unique values.\n",
      "- Column \"urls_url\" has 923841 unique values.\n",
      "\n",
      "================= df_discogs_releases =================\n",
      "df_discogs_releases has shape (17372035, 5)\n",
      "\n",
      "df_discogs_releases has numerical data in columns: ['release_id', 'year']\n",
      "- Column \"release_id\" has 12867979 unique values.\n",
      "- Column \"year\" has 132 unique values.\n",
      "\n",
      "df_discogs_releases has categorical data in columns: ['country', 'genre', 'format']\n",
      "- Column \"country\" has 281 unique values.\n",
      "- Column \"genre\" has 15 unique values.\n",
      "- Column \"format\" has 57 unique values.\n",
      "\n"
     ]
    }
   ],
   "source": [
    "for eda in auto_eda_pack:\n",
    "    eda.print_eda_report()"
   ]
  },
  {
   "cell_type": "code",
   "execution_count": 6,
   "metadata": {},
   "outputs": [
    {
     "name": "stdout",
     "output_type": "stream",
     "text": [
      "================= df_bandcamp_sales =================\n",
      "                        is_na   not_na na_percent\n",
      "track_album_slug_text  997763     2237     99.78%\n",
      "releases               988416    11584     98.84%\n",
      "item_slug              978258    21742     97.83%\n",
      "addl_count             978258    21742     97.83%\n",
      "amount_over_fmt        880867   119133     88.09%\n",
      "package_image_id       767292   232708     76.73%\n",
      "album_title            643539   356461     64.35%\n",
      "art_id                 235480   764520     23.55%\n",
      "slug_type               11584   988416      1.16%\n",
      "item_description           23   999977      0.00%\n",
      "artist_name                10   999990      0.00%\n",
      "_id                         0  1000000      0.00%\n",
      "art_url                     0  1000000      0.00%\n",
      "item_type                   0  1000000      0.00%\n",
      "utc_date                    0  1000000      0.00%\n",
      "country_code                0  1000000      0.00%\n",
      "country                     0  1000000      0.00%\n",
      "amount_paid_fmt             0  1000000      0.00%\n",
      "item_price                  0  1000000      0.00%\n",
      "url                         0  1000000      0.00%\n",
      "amount_paid                 0  1000000      0.00%\n",
      "currency                    0  1000000      0.00%\n",
      "amount_paid_usd             0  1000000      0.00%\n",
      "\n",
      "================= df_discogs_artists =================\n",
      "                       is_na   not_na na_percent\n",
      "aliases_name         8600121   594786     93.53%\n",
      "aliases_name_id      8600118   594789     93.53%\n",
      "members_name         8591817   603090     93.44%\n",
      "members_name_id      8591817   603090     93.44%\n",
      "artist_realname      8548249   646658     92.97%\n",
      "urls_url             8243668   951239     89.65%\n",
      "groups_name          7985597  1209310     86.85%\n",
      "groups_name_id       7985596  1209311     86.85%\n",
      "artist_profile       7219986  1974921     78.52%\n",
      "namevariations_name  7218547  1976360     78.51%\n",
      "artist_name                2  9194905      0.00%\n",
      "Unnamed: 0                 0  9194907      0.00%\n",
      "artist_data_quality        0  9194907      0.00%\n",
      "artist_id                  0  9194907      0.00%\n",
      "\n",
      "================= df_discogs_releases =================\n",
      "              is_na    not_na na_percent\n",
      "country      454549  16917486      2.62%\n",
      "year        2164324  15207711     12.46%\n",
      "genre             3  17372032      0.00%\n",
      "release_id        0  17372035      0.00%\n",
      "format            0  17372035      0.00%\n",
      "\n"
     ]
    }
   ],
   "source": [
    "for eda in auto_eda_pack:\n",
    "    print(f\"================= {eda.dataset.label} =================\")\n",
    "    df_nulls = eda.count_nulls()\n",
    "    print(df_nulls)\n",
    "    print()"
   ]
  }
 ],
 "metadata": {
  "kernelspec": {
   "display_name": "Python (venv)",
   "language": "python",
   "name": "venv"
  },
  "language_info": {
   "codemirror_mode": {
    "name": "ipython",
    "version": 3
   },
   "file_extension": ".py",
   "mimetype": "text/x-python",
   "name": "python",
   "nbconvert_exporter": "python",
   "pygments_lexer": "ipython3",
   "version": "3.13.2"
  }
 },
 "nbformat": 4,
 "nbformat_minor": 2
}
