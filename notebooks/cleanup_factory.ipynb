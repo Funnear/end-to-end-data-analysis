{
 "cells": [
  {
   "cell_type": "code",
   "execution_count": 3,
   "metadata": {},
   "outputs": [],
   "source": [
    "import pandas as pd"
   ]
  },
  {
   "cell_type": "code",
   "execution_count": 4,
   "metadata": {},
   "outputs": [],
   "source": [
    "import logging\n",
    "logging.getLogger().setLevel(logging.INFO)\n",
    "# DEBUG - what developers look at\n",
    "# INFO - extra information on what's happening\n",
    "# logging.info(f\"The age ({age}) is between 24 and 34\")\n",
    "# WARNING - this won't stop your code from running but you're doing something slightly off\n",
    "# EXCEPTION / ERROR - this will stop your code but you'll get extra info on the error"
   ]
  },
  {
   "cell_type": "code",
   "execution_count": 1,
   "metadata": {},
   "outputs": [],
   "source": [
    "from src import eda"
   ]
  },
  {
   "cell_type": "code",
   "execution_count": 5,
   "metadata": {},
   "outputs": [
    {
     "data": {
      "text/html": [
       "<div>\n",
       "<style scoped>\n",
       "    .dataframe tbody tr th:only-of-type {\n",
       "        vertical-align: middle;\n",
       "    }\n",
       "\n",
       "    .dataframe tbody tr th {\n",
       "        vertical-align: top;\n",
       "    }\n",
       "\n",
       "    .dataframe thead th {\n",
       "        text-align: right;\n",
       "    }\n",
       "</style>\n",
       "<table border=\"1\" class=\"dataframe\">\n",
       "  <thead>\n",
       "    <tr style=\"text-align: right;\">\n",
       "      <th></th>\n",
       "      <th>release_id</th>\n",
       "      <th>country</th>\n",
       "      <th>year</th>\n",
       "      <th>genre</th>\n",
       "      <th>format</th>\n",
       "    </tr>\n",
       "  </thead>\n",
       "  <tbody>\n",
       "    <tr>\n",
       "      <th>5602703</th>\n",
       "      <td>4912990</td>\n",
       "      <td>France</td>\n",
       "      <td>1973.0</td>\n",
       "      <td>Stage &amp; Screen</td>\n",
       "      <td>Vinyl</td>\n",
       "    </tr>\n",
       "    <tr>\n",
       "      <th>13046564</th>\n",
       "      <td>11852426</td>\n",
       "      <td>UK</td>\n",
       "      <td>NaN</td>\n",
       "      <td>Reggae</td>\n",
       "      <td>Vinyl</td>\n",
       "    </tr>\n",
       "    <tr>\n",
       "      <th>15265927</th>\n",
       "      <td>13835008</td>\n",
       "      <td>US</td>\n",
       "      <td>1966.0</td>\n",
       "      <td>Pop</td>\n",
       "      <td>Vinyl</td>\n",
       "    </tr>\n",
       "    <tr>\n",
       "      <th>3169578</th>\n",
       "      <td>2853840</td>\n",
       "      <td>UK &amp; Europe</td>\n",
       "      <td>2010.0</td>\n",
       "      <td>Folk, World, &amp; Country</td>\n",
       "      <td>Vinyl</td>\n",
       "    </tr>\n",
       "    <tr>\n",
       "      <th>9983284</th>\n",
       "      <td>8923642</td>\n",
       "      <td>NaN</td>\n",
       "      <td>2016.0</td>\n",
       "      <td>Folk, World, &amp; Country</td>\n",
       "      <td>Vinyl</td>\n",
       "    </tr>\n",
       "    <tr>\n",
       "      <th>13439722</th>\n",
       "      <td>12204448</td>\n",
       "      <td>UK &amp; Europe</td>\n",
       "      <td>2001.0</td>\n",
       "      <td>Rock</td>\n",
       "      <td>Cassette</td>\n",
       "    </tr>\n",
       "    <tr>\n",
       "      <th>6388913</th>\n",
       "      <td>5627182</td>\n",
       "      <td>Europe</td>\n",
       "      <td>1993.0</td>\n",
       "      <td>Hip Hop</td>\n",
       "      <td>CD</td>\n",
       "    </tr>\n",
       "    <tr>\n",
       "      <th>3508753</th>\n",
       "      <td>3129121</td>\n",
       "      <td>Canada</td>\n",
       "      <td>1988.0</td>\n",
       "      <td>Rock</td>\n",
       "      <td>Vinyl</td>\n",
       "    </tr>\n",
       "    <tr>\n",
       "      <th>15043350</th>\n",
       "      <td>13637621</td>\n",
       "      <td>Europe</td>\n",
       "      <td>2019.0</td>\n",
       "      <td>Pop</td>\n",
       "      <td>DVD</td>\n",
       "    </tr>\n",
       "    <tr>\n",
       "      <th>81561</th>\n",
       "      <td>77846</td>\n",
       "      <td>Italy</td>\n",
       "      <td>1992.0</td>\n",
       "      <td>Electronic</td>\n",
       "      <td>Vinyl</td>\n",
       "    </tr>\n",
       "  </tbody>\n",
       "</table>\n",
       "</div>"
      ],
      "text/plain": [
       "          release_id      country    year                   genre    format\n",
       "5602703      4912990       France  1973.0          Stage & Screen     Vinyl\n",
       "13046564    11852426           UK     NaN                  Reggae     Vinyl\n",
       "15265927    13835008           US  1966.0                     Pop     Vinyl\n",
       "3169578      2853840  UK & Europe  2010.0  Folk, World, & Country     Vinyl\n",
       "9983284      8923642          NaN  2016.0  Folk, World, & Country     Vinyl\n",
       "13439722    12204448  UK & Europe  2001.0                    Rock  Cassette\n",
       "6388913      5627182       Europe  1993.0                 Hip Hop        CD\n",
       "3508753      3129121       Canada  1988.0                    Rock     Vinyl\n",
       "15043350    13637621       Europe  2019.0                     Pop       DVD\n",
       "81561          77846        Italy  1992.0              Electronic     Vinyl"
      ]
     },
     "execution_count": 5,
     "metadata": {},
     "output_type": "execute_result"
    }
   ],
   "source": [
    "path2=\"../datasets/release_data.csv\"\n",
    "\n",
    "data_2 = pd.read_csv(path2)\n",
    "df2 = data_2.copy()\n",
    "df2.sample(10)"
   ]
  },
  {
   "cell_type": "code",
   "execution_count": 6,
   "metadata": {},
   "outputs": [
    {
     "data": {
      "text/plain": [
       "['release_id', 'year']"
      ]
     },
     "execution_count": 6,
     "metadata": {},
     "output_type": "execute_result"
    }
   ],
   "source": [
    "eda.numerical_data_columns(df2)"
   ]
  }
 ],
 "metadata": {
  "kernelspec": {
   "display_name": "Python (venv)",
   "language": "python",
   "name": "venv"
  },
  "language_info": {
   "codemirror_mode": {
    "name": "ipython",
    "version": 3
   },
   "file_extension": ".py",
   "mimetype": "text/x-python",
   "name": "python",
   "nbconvert_exporter": "python",
   "pygments_lexer": "ipython3",
   "version": "3.13.2"
  }
 },
 "nbformat": 4,
 "nbformat_minor": 2
}
