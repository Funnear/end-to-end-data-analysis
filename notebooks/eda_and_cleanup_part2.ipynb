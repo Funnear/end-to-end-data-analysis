{
 "cells": [
  {
   "cell_type": "code",
   "execution_count": 1,
   "metadata": {},
   "outputs": [],
   "source": [
    "import pandas as pd\n",
    "import logging\n",
    "\n",
    "from src import eda, datasets"
   ]
  },
  {
   "cell_type": "code",
   "execution_count": 2,
   "metadata": {},
   "outputs": [],
   "source": [
    "logging.getLogger().setLevel(logging.DEBUG)"
   ]
  },
  {
   "cell_type": "code",
   "execution_count": 3,
   "metadata": {},
   "outputs": [
    {
     "name": "stderr",
     "output_type": "stream",
     "text": [
      "INFO:root:Restoring backup: /Users/bubblegum_doubledrops/Library/Mobile Documents/com~apple~CloudDocs/0prio - Important heavy backups/IronHack/big_projects/end-to-end-data-analysis/datasets/_dataset_pack_end-to-end-data-analysis.json\n",
      "INFO:root:Restoring dataframe from backup: /Users/bubblegum_doubledrops/Library/Mobile Documents/com~apple~CloudDocs/0prio - Important heavy backups/IronHack/big_projects/end-to-end-data-analysis/datasets/df_bandcamp_sales.pkl\n",
      "INFO:root:Restoring dataframe from backup: /Users/bubblegum_doubledrops/Library/Mobile Documents/com~apple~CloudDocs/0prio - Important heavy backups/IronHack/big_projects/end-to-end-data-analysis/datasets/df_discogs_artists.pkl\n",
      "INFO:root:Restoring dataframe from backup: /Users/bubblegum_doubledrops/Library/Mobile Documents/com~apple~CloudDocs/0prio - Important heavy backups/IronHack/big_projects/end-to-end-data-analysis/datasets/df_discogs_releases.pkl\n",
      "INFO:root:Backup restored successfully from /Users/bubblegum_doubledrops/Library/Mobile Documents/com~apple~CloudDocs/0prio - Important heavy backups/IronHack/big_projects/end-to-end-data-analysis/datasets/_dataset_pack_end-to-end-data-analysis.json\n"
     ]
    }
   ],
   "source": [
    "project_pack = datasets.DatasetPack(restore=True)"
   ]
  },
  {
   "cell_type": "code",
   "execution_count": 4,
   "metadata": {},
   "outputs": [],
   "source": [
    "auto_eda_pack = {label: eda.Auto_EDA(dataset) for label, dataset in project_pack.dictionary.items()}"
   ]
  },
  {
   "cell_type": "code",
   "execution_count": 5,
   "metadata": {},
   "outputs": [
    {
     "name": "stdout",
     "output_type": "stream",
     "text": [
      "Copy the output as code to run in the next cell\n",
      "df_bandcamp_sales = project_pack.dictionary['df_bandcamp_sales'].dataframe\n",
      "df_discogs_artists = project_pack.dictionary['df_discogs_artists'].dataframe\n",
      "df_discogs_releases = project_pack.dictionary['df_discogs_releases'].dataframe\n"
     ]
    }
   ],
   "source": [
    "print(\"Copy the output as code to run in the next cell\")\n",
    "# TODO: implement DatasetPack.labels() to return a list\n",
    "for label in project_pack.dictionary.keys():\n",
    "    print(f\"{label} = project_pack.dictionary['{label}'].dataframe\")"
   ]
  },
  {
   "cell_type": "code",
   "execution_count": 6,
   "metadata": {},
   "outputs": [],
   "source": [
    "df_bandcamp_sales = project_pack.dictionary['df_bandcamp_sales'].dataframe\n",
    "df_discogs_artists = project_pack.dictionary['df_discogs_artists'].dataframe\n",
    "df_discogs_releases = project_pack.dictionary['df_discogs_releases'].dataframe"
   ]
  },
  {
   "cell_type": "markdown",
   "metadata": {},
   "source": [
    "### Frequency counts for df_bandcamp_sales product types\n",
    "\n",
    "As we see from the auto-EDA output:\n",
    "\n",
    "- Column \"item_type\" has 4 unique values.\n",
    "\n",
    "  -- Unique values are:\n",
    " ['a' 'p' 't' 'b']\n",
    "\n",
    "- Column \"slug_type\" has 3 unique values.\n",
    "\n",
    "  -- Unique values are:\n",
    " ['a' 't' 'p' nan]\n",
    "\n",
    "Both columns contain product type codes.\n",
    "\n",
    "```\n",
    "-- a: for albums; \n",
    "--- in 'item_type': a stands for all album types;\n",
    "--- in 'slug_type': a stands only for digital albums;\n",
    "-- t: for digital single tracks;\n",
    "-- p: for physical items: merchendise or hard media (vynil/CD releases);\n",
    "--- in 'item_type': p stands for all physical items;\n",
    "--- in 'slug_type': p stands only for merch;\n",
    "-- b: type-surprise, it was missing from the source description.\n",
    "```"
   ]
  },
  {
   "cell_type": "code",
   "execution_count": null,
   "metadata": {},
   "outputs": [],
   "source": []
  },
  {
   "cell_type": "markdown",
   "metadata": {},
   "source": [
    "### Frequency counts for df_discogs_artists\n",
    "\n",
    "As we see from the auto-EDA output:\n",
    "- Column \"artist_data_quality\" has 6 unique values.\n",
    "\n",
    "  -- Unique values are:\n",
    "\n",
    " ['Needs Vote' 'Correct' 'Needs Major Changes' 'Complete and Correct'\n",
    " 'Needs Minor Changes' 'Entirely Incorrect']"
   ]
  },
  {
   "cell_type": "code",
   "execution_count": null,
   "metadata": {},
   "outputs": [],
   "source": []
  },
  {
   "cell_type": "markdown",
   "metadata": {},
   "source": [
    "### Frequency counts for df_discogs_releases\n",
    "\n",
    "As we see from the auto-EDA output:\n",
    "\n",
    "- Column \"genre\" has 15 unique values.\n",
    "\n",
    "  -- Unique values are:\n",
    "\n",
    " ['Electronic' 'Hip Hop' 'Non-Music' 'Jazz' 'Rock' 'Latin' 'Funk / Soul'\n",
    " 'Stage & Screen' 'Pop' 'Reggae' 'Folk, World, & Country' 'Classical'\n",
    " 'Blues' 'Brass & Military' \"Children's\" nan]\n",
    "\n",
    "- Column \"format\" has 57 unique values."
   ]
  },
  {
   "cell_type": "code",
   "execution_count": null,
   "metadata": {},
   "outputs": [],
   "source": []
  },
  {
   "cell_type": "markdown",
   "metadata": {},
   "source": [
    "## Backup"
   ]
  },
  {
   "cell_type": "code",
   "execution_count": null,
   "metadata": {},
   "outputs": [],
   "source": [
    "for _, dataset in project_pack.dictionary.items():\n",
    "    dataset.backup()\n",
    "\n",
    "project_pack.backup_pack()"
   ]
  }
 ],
 "metadata": {
  "kernelspec": {
   "display_name": "Python (venv)",
   "language": "python",
   "name": "venv"
  },
  "language_info": {
   "codemirror_mode": {
    "name": "ipython",
    "version": 3
   },
   "file_extension": ".py",
   "mimetype": "text/x-python",
   "name": "python",
   "nbconvert_exporter": "python",
   "pygments_lexer": "ipython3",
   "version": "3.13.2"
  }
 },
 "nbformat": 4,
 "nbformat_minor": 2
}
