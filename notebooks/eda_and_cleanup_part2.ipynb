{
 "cells": [
  {
   "cell_type": "code",
   "execution_count": 37,
   "metadata": {},
   "outputs": [
    {
     "name": "stderr",
     "output_type": "stream",
     "text": [
      "DEBUG:matplotlib:matplotlib data path: /Users/bubblegum_doubledrops/Library/Mobile Documents/com~apple~CloudDocs/0prio - Important heavy backups/IronHack/big_projects/end-to-end-data-analysis/venv/lib/python3.13/site-packages/matplotlib/mpl-data\n",
      "DEBUG:matplotlib:CONFIGDIR=/Users/bubblegum_doubledrops/.matplotlib\n",
      "DEBUG:matplotlib:interactive is False\n",
      "DEBUG:matplotlib:platform is darwin\n",
      "DEBUG:matplotlib:CACHEDIR=/Users/bubblegum_doubledrops/.matplotlib\n",
      "DEBUG:matplotlib.font_manager:Using fontManager instance from /Users/bubblegum_doubledrops/.matplotlib/fontlist-v390.json\n"
     ]
    }
   ],
   "source": [
    "import pandas as pd\n",
    "import seaborn as sns\n",
    "import matplotlib.pyplot as plt\n",
    "import itertools\n",
    "import re\n",
    "import logging\n",
    "\n",
    "from src import eda, datasets"
   ]
  },
  {
   "cell_type": "code",
   "execution_count": 2,
   "metadata": {},
   "outputs": [],
   "source": [
    "logging.getLogger().setLevel(logging.DEBUG)"
   ]
  },
  {
   "cell_type": "code",
   "execution_count": 3,
   "metadata": {},
   "outputs": [
    {
     "name": "stderr",
     "output_type": "stream",
     "text": [
      "INFO:root:Restoring backup: /Users/bubblegum_doubledrops/Library/Mobile Documents/com~apple~CloudDocs/0prio - Important heavy backups/IronHack/big_projects/end-to-end-data-analysis/datasets/_dataset_pack_end-to-end-data-analysis.json\n",
      "INFO:root:Restoring dataframe from backup: /Users/bubblegum_doubledrops/Library/Mobile Documents/com~apple~CloudDocs/0prio - Important heavy backups/IronHack/big_projects/end-to-end-data-analysis/datasets/df_bandcamp_sales.pkl\n",
      "INFO:root:Restoring dataframe from backup: /Users/bubblegum_doubledrops/Library/Mobile Documents/com~apple~CloudDocs/0prio - Important heavy backups/IronHack/big_projects/end-to-end-data-analysis/datasets/df_discogs_artists.pkl\n",
      "INFO:root:Restoring dataframe from backup: /Users/bubblegum_doubledrops/Library/Mobile Documents/com~apple~CloudDocs/0prio - Important heavy backups/IronHack/big_projects/end-to-end-data-analysis/datasets/df_discogs_releases.pkl\n",
      "INFO:root:Backup restored successfully from /Users/bubblegum_doubledrops/Library/Mobile Documents/com~apple~CloudDocs/0prio - Important heavy backups/IronHack/big_projects/end-to-end-data-analysis/datasets/_dataset_pack_end-to-end-data-analysis.json\n"
     ]
    }
   ],
   "source": [
    "project_pack = datasets.DatasetPack(restore=True)"
   ]
  },
  {
   "cell_type": "code",
   "execution_count": 5,
   "metadata": {},
   "outputs": [
    {
     "name": "stdout",
     "output_type": "stream",
     "text": [
      "Copy the output as code to run in the next cell\n",
      "df_bandcamp_sales = project_pack.dictionary['df_bandcamp_sales'].dataframe\n",
      "df_discogs_artists = project_pack.dictionary['df_discogs_artists'].dataframe\n",
      "df_discogs_releases = project_pack.dictionary['df_discogs_releases'].dataframe\n"
     ]
    }
   ],
   "source": [
    "print(\"Copy the output as code to run in the next cell\")\n",
    "# TODO: implement DatasetPack.labels() to return a list\n",
    "for label in project_pack.dictionary.keys():\n",
    "    print(f\"{label} = project_pack.dictionary['{label}'].dataframe\")"
   ]
  },
  {
   "cell_type": "code",
   "execution_count": 6,
   "metadata": {},
   "outputs": [],
   "source": [
    "df_bandcamp_sales = project_pack.dictionary['df_bandcamp_sales'].dataframe\n",
    "df_discogs_artists = project_pack.dictionary['df_discogs_artists'].dataframe\n",
    "df_discogs_releases = project_pack.dictionary['df_discogs_releases'].dataframe"
   ]
  },
  {
   "cell_type": "markdown",
   "metadata": {},
   "source": [
    "### Frequency counts for df_bandcamp_sales product types\n",
    "\n",
    "As we see from the auto-EDA output:\n",
    "\n",
    "- Column \"item_type\" has 4 unique values.\n",
    "\n",
    "  -- Unique values are:\n",
    " ['a' 'p' 't' 'b']\n",
    "\n",
    "- Column \"slug_type\" has 3 unique values.\n",
    "\n",
    "  -- Unique values are:\n",
    " ['a' 't' 'p' nan]\n",
    "\n",
    "Both columns contain product type codes.\n",
    "\n",
    "```\n",
    "-- a: for albums; \n",
    "--- in 'item_type': a stands for all album types;\n",
    "--- in 'slug_type': a stands only for digital albums;\n",
    "-- t: for digital single tracks;\n",
    "-- p: for physical items: merchendise or hard media (vynil/CD releases);\n",
    "--- in 'item_type': p stands for all physical items;\n",
    "--- in 'slug_type': p stands only for merch;\n",
    "-- b: type-surprise, it was missing from the source description.\n",
    "```"
   ]
  },
  {
   "cell_type": "code",
   "execution_count": 7,
   "metadata": {},
   "outputs": [
    {
     "data": {
      "text/html": [
       "<div>\n",
       "<style scoped>\n",
       "    .dataframe tbody tr th:only-of-type {\n",
       "        vertical-align: middle;\n",
       "    }\n",
       "\n",
       "    .dataframe tbody tr th {\n",
       "        vertical-align: top;\n",
       "    }\n",
       "\n",
       "    .dataframe thead th {\n",
       "        text-align: right;\n",
       "    }\n",
       "</style>\n",
       "<table border=\"1\" class=\"dataframe\">\n",
       "  <thead>\n",
       "    <tr style=\"text-align: right;\">\n",
       "      <th></th>\n",
       "      <th>item_type</th>\n",
       "      <th>slug_type</th>\n",
       "      <th>item_description</th>\n",
       "    </tr>\n",
       "  </thead>\n",
       "  <tbody>\n",
       "    <tr>\n",
       "      <th>437752</th>\n",
       "      <td>a</td>\n",
       "      <td>a</td>\n",
       "      <td>cosmic ground 5</td>\n",
       "    </tr>\n",
       "    <tr>\n",
       "      <th>392832</th>\n",
       "      <td>p</td>\n",
       "      <td>p</td>\n",
       "      <td>Bonobo T-shirt (organic cotton)</td>\n",
       "    </tr>\n",
       "    <tr>\n",
       "      <th>986287</th>\n",
       "      <td>t</td>\n",
       "      <td>t</td>\n",
       "      <td>Call Them Up</td>\n",
       "    </tr>\n",
       "  </tbody>\n",
       "</table>\n",
       "</div>"
      ],
      "text/plain": [
       "       item_type slug_type                 item_description\n",
       "437752         a         a                  cosmic ground 5\n",
       "392832         p         p  Bonobo T-shirt (organic cotton)\n",
       "986287         t         t                     Call Them Up"
      ]
     },
     "execution_count": 7,
     "metadata": {},
     "output_type": "execute_result"
    }
   ],
   "source": [
    "df_product_types = df_bandcamp_sales[[\"item_type\", \"slug_type\", \"item_description\"]]\n",
    "df_product_types.sample(3)"
   ]
  },
  {
   "cell_type": "code",
   "execution_count": 8,
   "metadata": {},
   "outputs": [
    {
     "name": "stdout",
     "output_type": "stream",
     "text": [
      "Combination: ('a', 'a')\n"
     ]
    },
    {
     "data": {
      "text/html": [
       "<div>\n",
       "<style scoped>\n",
       "    .dataframe tbody tr th:only-of-type {\n",
       "        vertical-align: middle;\n",
       "    }\n",
       "\n",
       "    .dataframe tbody tr th {\n",
       "        vertical-align: top;\n",
       "    }\n",
       "\n",
       "    .dataframe thead th {\n",
       "        text-align: right;\n",
       "    }\n",
       "</style>\n",
       "<table border=\"1\" class=\"dataframe\">\n",
       "  <thead>\n",
       "    <tr style=\"text-align: right;\">\n",
       "      <th></th>\n",
       "      <th>item_type</th>\n",
       "      <th>slug_type</th>\n",
       "      <th>item_description</th>\n",
       "    </tr>\n",
       "  </thead>\n",
       "  <tbody>\n",
       "    <tr>\n",
       "      <th>343476</th>\n",
       "      <td>a</td>\n",
       "      <td>a</td>\n",
       "      <td>How Ill Thy World Is Ordered</td>\n",
       "    </tr>\n",
       "    <tr>\n",
       "      <th>224031</th>\n",
       "      <td>a</td>\n",
       "      <td>a</td>\n",
       "      <td>Sputnik Tape</td>\n",
       "    </tr>\n",
       "    <tr>\n",
       "      <th>154459</th>\n",
       "      <td>a</td>\n",
       "      <td>a</td>\n",
       "      <td>Curse</td>\n",
       "    </tr>\n",
       "    <tr>\n",
       "      <th>572578</th>\n",
       "      <td>a</td>\n",
       "      <td>a</td>\n",
       "      <td>hello kitty skates to the fuckin CEMETARY</td>\n",
       "    </tr>\n",
       "    <tr>\n",
       "      <th>335403</th>\n",
       "      <td>a</td>\n",
       "      <td>a</td>\n",
       "      <td>The Silent Tree</td>\n",
       "    </tr>\n",
       "  </tbody>\n",
       "</table>\n",
       "</div>"
      ],
      "text/plain": [
       "       item_type slug_type                           item_description\n",
       "343476         a         a               How Ill Thy World Is Ordered\n",
       "224031         a         a                               Sputnik Tape\n",
       "154459         a         a                                      Curse\n",
       "572578         a         a  hello kitty skates to the fuckin CEMETARY\n",
       "335403         a         a                            The Silent Tree"
      ]
     },
     "metadata": {},
     "output_type": "display_data"
    },
    {
     "name": "stdout",
     "output_type": "stream",
     "text": [
      "Combination: ('a', 't')\n"
     ]
    },
    {
     "data": {
      "text/html": [
       "<div>\n",
       "<style scoped>\n",
       "    .dataframe tbody tr th:only-of-type {\n",
       "        vertical-align: middle;\n",
       "    }\n",
       "\n",
       "    .dataframe tbody tr th {\n",
       "        vertical-align: top;\n",
       "    }\n",
       "\n",
       "    .dataframe thead th {\n",
       "        text-align: right;\n",
       "    }\n",
       "</style>\n",
       "<table border=\"1\" class=\"dataframe\">\n",
       "  <thead>\n",
       "    <tr style=\"text-align: right;\">\n",
       "      <th></th>\n",
       "      <th>item_type</th>\n",
       "      <th>slug_type</th>\n",
       "      <th>item_description</th>\n",
       "    </tr>\n",
       "  </thead>\n",
       "  <tbody>\n",
       "  </tbody>\n",
       "</table>\n",
       "</div>"
      ],
      "text/plain": [
       "Empty DataFrame\n",
       "Columns: [item_type, slug_type, item_description]\n",
       "Index: []"
      ]
     },
     "metadata": {},
     "output_type": "display_data"
    },
    {
     "name": "stdout",
     "output_type": "stream",
     "text": [
      "Combination: ('a', 'p')\n"
     ]
    },
    {
     "data": {
      "text/html": [
       "<div>\n",
       "<style scoped>\n",
       "    .dataframe tbody tr th:only-of-type {\n",
       "        vertical-align: middle;\n",
       "    }\n",
       "\n",
       "    .dataframe tbody tr th {\n",
       "        vertical-align: top;\n",
       "    }\n",
       "\n",
       "    .dataframe thead th {\n",
       "        text-align: right;\n",
       "    }\n",
       "</style>\n",
       "<table border=\"1\" class=\"dataframe\">\n",
       "  <thead>\n",
       "    <tr style=\"text-align: right;\">\n",
       "      <th></th>\n",
       "      <th>item_type</th>\n",
       "      <th>slug_type</th>\n",
       "      <th>item_description</th>\n",
       "    </tr>\n",
       "  </thead>\n",
       "  <tbody>\n",
       "  </tbody>\n",
       "</table>\n",
       "</div>"
      ],
      "text/plain": [
       "Empty DataFrame\n",
       "Columns: [item_type, slug_type, item_description]\n",
       "Index: []"
      ]
     },
     "metadata": {},
     "output_type": "display_data"
    },
    {
     "name": "stdout",
     "output_type": "stream",
     "text": [
      "Combination: ('a', None)\n"
     ]
    },
    {
     "data": {
      "text/html": [
       "<div>\n",
       "<style scoped>\n",
       "    .dataframe tbody tr th:only-of-type {\n",
       "        vertical-align: middle;\n",
       "    }\n",
       "\n",
       "    .dataframe tbody tr th {\n",
       "        vertical-align: top;\n",
       "    }\n",
       "\n",
       "    .dataframe thead th {\n",
       "        text-align: right;\n",
       "    }\n",
       "</style>\n",
       "<table border=\"1\" class=\"dataframe\">\n",
       "  <thead>\n",
       "    <tr style=\"text-align: right;\">\n",
       "      <th></th>\n",
       "      <th>item_type</th>\n",
       "      <th>slug_type</th>\n",
       "      <th>item_description</th>\n",
       "    </tr>\n",
       "  </thead>\n",
       "  <tbody>\n",
       "  </tbody>\n",
       "</table>\n",
       "</div>"
      ],
      "text/plain": [
       "Empty DataFrame\n",
       "Columns: [item_type, slug_type, item_description]\n",
       "Index: []"
      ]
     },
     "metadata": {},
     "output_type": "display_data"
    },
    {
     "name": "stdout",
     "output_type": "stream",
     "text": [
      "Combination: ('p', 'a')\n"
     ]
    },
    {
     "data": {
      "text/html": [
       "<div>\n",
       "<style scoped>\n",
       "    .dataframe tbody tr th:only-of-type {\n",
       "        vertical-align: middle;\n",
       "    }\n",
       "\n",
       "    .dataframe tbody tr th {\n",
       "        vertical-align: top;\n",
       "    }\n",
       "\n",
       "    .dataframe thead th {\n",
       "        text-align: right;\n",
       "    }\n",
       "</style>\n",
       "<table border=\"1\" class=\"dataframe\">\n",
       "  <thead>\n",
       "    <tr style=\"text-align: right;\">\n",
       "      <th></th>\n",
       "      <th>item_type</th>\n",
       "      <th>slug_type</th>\n",
       "      <th>item_description</th>\n",
       "    </tr>\n",
       "  </thead>\n",
       "  <tbody>\n",
       "    <tr>\n",
       "      <th>863442</th>\n",
       "      <td>p</td>\n",
       "      <td>a</td>\n",
       "      <td>The Hotelier - Home, Like Noplace Is There Vinyl</td>\n",
       "    </tr>\n",
       "    <tr>\n",
       "      <th>794049</th>\n",
       "      <td>p</td>\n",
       "      <td>a</td>\n",
       "      <td>Jewel-case CD version</td>\n",
       "    </tr>\n",
       "    <tr>\n",
       "      <th>371148</th>\n",
       "      <td>p</td>\n",
       "      <td>a</td>\n",
       "      <td>12\" VINYL EDITION - GREEN/YELLOW MARBLE VINYL</td>\n",
       "    </tr>\n",
       "    <tr>\n",
       "      <th>961317</th>\n",
       "      <td>p</td>\n",
       "      <td>a</td>\n",
       "      <td>Ltd Yellow Swirl LP</td>\n",
       "    </tr>\n",
       "    <tr>\n",
       "      <th>395427</th>\n",
       "      <td>p</td>\n",
       "      <td>a</td>\n",
       "      <td>Limited Edition 7\" Vinyl</td>\n",
       "    </tr>\n",
       "  </tbody>\n",
       "</table>\n",
       "</div>"
      ],
      "text/plain": [
       "       item_type slug_type                                  item_description\n",
       "863442         p         a  The Hotelier - Home, Like Noplace Is There Vinyl\n",
       "794049         p         a                             Jewel-case CD version\n",
       "371148         p         a     12\" VINYL EDITION - GREEN/YELLOW MARBLE VINYL\n",
       "961317         p         a                               Ltd Yellow Swirl LP\n",
       "395427         p         a                          Limited Edition 7\" Vinyl"
      ]
     },
     "metadata": {},
     "output_type": "display_data"
    },
    {
     "name": "stdout",
     "output_type": "stream",
     "text": [
      "Combination: ('p', 't')\n"
     ]
    },
    {
     "data": {
      "text/html": [
       "<div>\n",
       "<style scoped>\n",
       "    .dataframe tbody tr th:only-of-type {\n",
       "        vertical-align: middle;\n",
       "    }\n",
       "\n",
       "    .dataframe tbody tr th {\n",
       "        vertical-align: top;\n",
       "    }\n",
       "\n",
       "    .dataframe thead th {\n",
       "        text-align: right;\n",
       "    }\n",
       "</style>\n",
       "<table border=\"1\" class=\"dataframe\">\n",
       "  <thead>\n",
       "    <tr style=\"text-align: right;\">\n",
       "      <th></th>\n",
       "      <th>item_type</th>\n",
       "      <th>slug_type</th>\n",
       "      <th>item_description</th>\n",
       "    </tr>\n",
       "  </thead>\n",
       "  <tbody>\n",
       "  </tbody>\n",
       "</table>\n",
       "</div>"
      ],
      "text/plain": [
       "Empty DataFrame\n",
       "Columns: [item_type, slug_type, item_description]\n",
       "Index: []"
      ]
     },
     "metadata": {},
     "output_type": "display_data"
    },
    {
     "name": "stdout",
     "output_type": "stream",
     "text": [
      "Combination: ('p', 'p')\n"
     ]
    },
    {
     "data": {
      "text/html": [
       "<div>\n",
       "<style scoped>\n",
       "    .dataframe tbody tr th:only-of-type {\n",
       "        vertical-align: middle;\n",
       "    }\n",
       "\n",
       "    .dataframe tbody tr th {\n",
       "        vertical-align: top;\n",
       "    }\n",
       "\n",
       "    .dataframe thead th {\n",
       "        text-align: right;\n",
       "    }\n",
       "</style>\n",
       "<table border=\"1\" class=\"dataframe\">\n",
       "  <thead>\n",
       "    <tr style=\"text-align: right;\">\n",
       "      <th></th>\n",
       "      <th>item_type</th>\n",
       "      <th>slug_type</th>\n",
       "      <th>item_description</th>\n",
       "    </tr>\n",
       "  </thead>\n",
       "  <tbody>\n",
       "    <tr>\n",
       "      <th>150857</th>\n",
       "      <td>p</td>\n",
       "      <td>p</td>\n",
       "      <td>SPECIAL OFFER : MORD071 - Tensal - Tyranny EP ...</td>\n",
       "    </tr>\n",
       "    <tr>\n",
       "      <th>458407</th>\n",
       "      <td>p</td>\n",
       "      <td>p</td>\n",
       "      <td>'Doomswayers' Vinyl/T-shirt/Book Bundle</td>\n",
       "    </tr>\n",
       "    <tr>\n",
       "      <th>868416</th>\n",
       "      <td>p</td>\n",
       "      <td>p</td>\n",
       "      <td>Limited Edition \"Dump Gawd\" Hoodie</td>\n",
       "    </tr>\n",
       "    <tr>\n",
       "      <th>376245</th>\n",
       "      <td>p</td>\n",
       "      <td>p</td>\n",
       "      <td>Take Heart, Take Care CD</td>\n",
       "    </tr>\n",
       "    <tr>\n",
       "      <th>173111</th>\n",
       "      <td>p</td>\n",
       "      <td>p</td>\n",
       "      <td>JESSA Hackeysack</td>\n",
       "    </tr>\n",
       "  </tbody>\n",
       "</table>\n",
       "</div>"
      ],
      "text/plain": [
       "       item_type slug_type                                   item_description\n",
       "150857         p         p  SPECIAL OFFER : MORD071 - Tensal - Tyranny EP ...\n",
       "458407         p         p            'Doomswayers' Vinyl/T-shirt/Book Bundle\n",
       "868416         p         p                 Limited Edition \"Dump Gawd\" Hoodie\n",
       "376245         p         p                           Take Heart, Take Care CD\n",
       "173111         p         p                                   JESSA Hackeysack"
      ]
     },
     "metadata": {},
     "output_type": "display_data"
    },
    {
     "name": "stdout",
     "output_type": "stream",
     "text": [
      "Combination: ('p', None)\n"
     ]
    },
    {
     "data": {
      "text/html": [
       "<div>\n",
       "<style scoped>\n",
       "    .dataframe tbody tr th:only-of-type {\n",
       "        vertical-align: middle;\n",
       "    }\n",
       "\n",
       "    .dataframe tbody tr th {\n",
       "        vertical-align: top;\n",
       "    }\n",
       "\n",
       "    .dataframe thead th {\n",
       "        text-align: right;\n",
       "    }\n",
       "</style>\n",
       "<table border=\"1\" class=\"dataframe\">\n",
       "  <thead>\n",
       "    <tr style=\"text-align: right;\">\n",
       "      <th></th>\n",
       "      <th>item_type</th>\n",
       "      <th>slug_type</th>\n",
       "      <th>item_description</th>\n",
       "    </tr>\n",
       "  </thead>\n",
       "  <tbody>\n",
       "  </tbody>\n",
       "</table>\n",
       "</div>"
      ],
      "text/plain": [
       "Empty DataFrame\n",
       "Columns: [item_type, slug_type, item_description]\n",
       "Index: []"
      ]
     },
     "metadata": {},
     "output_type": "display_data"
    },
    {
     "name": "stdout",
     "output_type": "stream",
     "text": [
      "Combination: ('t', 'a')\n"
     ]
    },
    {
     "data": {
      "text/html": [
       "<div>\n",
       "<style scoped>\n",
       "    .dataframe tbody tr th:only-of-type {\n",
       "        vertical-align: middle;\n",
       "    }\n",
       "\n",
       "    .dataframe tbody tr th {\n",
       "        vertical-align: top;\n",
       "    }\n",
       "\n",
       "    .dataframe thead th {\n",
       "        text-align: right;\n",
       "    }\n",
       "</style>\n",
       "<table border=\"1\" class=\"dataframe\">\n",
       "  <thead>\n",
       "    <tr style=\"text-align: right;\">\n",
       "      <th></th>\n",
       "      <th>item_type</th>\n",
       "      <th>slug_type</th>\n",
       "      <th>item_description</th>\n",
       "    </tr>\n",
       "  </thead>\n",
       "  <tbody>\n",
       "  </tbody>\n",
       "</table>\n",
       "</div>"
      ],
      "text/plain": [
       "Empty DataFrame\n",
       "Columns: [item_type, slug_type, item_description]\n",
       "Index: []"
      ]
     },
     "metadata": {},
     "output_type": "display_data"
    },
    {
     "name": "stdout",
     "output_type": "stream",
     "text": [
      "Combination: ('t', 't')\n"
     ]
    },
    {
     "data": {
      "text/html": [
       "<div>\n",
       "<style scoped>\n",
       "    .dataframe tbody tr th:only-of-type {\n",
       "        vertical-align: middle;\n",
       "    }\n",
       "\n",
       "    .dataframe tbody tr th {\n",
       "        vertical-align: top;\n",
       "    }\n",
       "\n",
       "    .dataframe thead th {\n",
       "        text-align: right;\n",
       "    }\n",
       "</style>\n",
       "<table border=\"1\" class=\"dataframe\">\n",
       "  <thead>\n",
       "    <tr style=\"text-align: right;\">\n",
       "      <th></th>\n",
       "      <th>item_type</th>\n",
       "      <th>slug_type</th>\n",
       "      <th>item_description</th>\n",
       "    </tr>\n",
       "  </thead>\n",
       "  <tbody>\n",
       "    <tr>\n",
       "      <th>71343</th>\n",
       "      <td>t</td>\n",
       "      <td>t</td>\n",
       "      <td>Antares - Ride On A Meteorite (JKS Rave Euromi...</td>\n",
       "    </tr>\n",
       "    <tr>\n",
       "      <th>492093</th>\n",
       "      <td>t</td>\n",
       "      <td>t</td>\n",
       "      <td>Sound Of Da Police (Ahmed Sirour remix)</td>\n",
       "    </tr>\n",
       "    <tr>\n",
       "      <th>556225</th>\n",
       "      <td>t</td>\n",
       "      <td>t</td>\n",
       "      <td>Detroit Smash</td>\n",
       "    </tr>\n",
       "    <tr>\n",
       "      <th>460360</th>\n",
       "      <td>t</td>\n",
       "      <td>t</td>\n",
       "      <td>Nebenan</td>\n",
       "    </tr>\n",
       "    <tr>\n",
       "      <th>589927</th>\n",
       "      <td>t</td>\n",
       "      <td>t</td>\n",
       "      <td>Quentin Ravn - Strippin down</td>\n",
       "    </tr>\n",
       "  </tbody>\n",
       "</table>\n",
       "</div>"
      ],
      "text/plain": [
       "       item_type slug_type                                   item_description\n",
       "71343          t         t  Antares - Ride On A Meteorite (JKS Rave Euromi...\n",
       "492093         t         t            Sound Of Da Police (Ahmed Sirour remix)\n",
       "556225         t         t                                      Detroit Smash\n",
       "460360         t         t                                            Nebenan\n",
       "589927         t         t                       Quentin Ravn - Strippin down"
      ]
     },
     "metadata": {},
     "output_type": "display_data"
    },
    {
     "name": "stdout",
     "output_type": "stream",
     "text": [
      "Combination: ('t', 'p')\n"
     ]
    },
    {
     "data": {
      "text/html": [
       "<div>\n",
       "<style scoped>\n",
       "    .dataframe tbody tr th:only-of-type {\n",
       "        vertical-align: middle;\n",
       "    }\n",
       "\n",
       "    .dataframe tbody tr th {\n",
       "        vertical-align: top;\n",
       "    }\n",
       "\n",
       "    .dataframe thead th {\n",
       "        text-align: right;\n",
       "    }\n",
       "</style>\n",
       "<table border=\"1\" class=\"dataframe\">\n",
       "  <thead>\n",
       "    <tr style=\"text-align: right;\">\n",
       "      <th></th>\n",
       "      <th>item_type</th>\n",
       "      <th>slug_type</th>\n",
       "      <th>item_description</th>\n",
       "    </tr>\n",
       "  </thead>\n",
       "  <tbody>\n",
       "  </tbody>\n",
       "</table>\n",
       "</div>"
      ],
      "text/plain": [
       "Empty DataFrame\n",
       "Columns: [item_type, slug_type, item_description]\n",
       "Index: []"
      ]
     },
     "metadata": {},
     "output_type": "display_data"
    },
    {
     "name": "stdout",
     "output_type": "stream",
     "text": [
      "Combination: ('t', None)\n"
     ]
    },
    {
     "data": {
      "text/html": [
       "<div>\n",
       "<style scoped>\n",
       "    .dataframe tbody tr th:only-of-type {\n",
       "        vertical-align: middle;\n",
       "    }\n",
       "\n",
       "    .dataframe tbody tr th {\n",
       "        vertical-align: top;\n",
       "    }\n",
       "\n",
       "    .dataframe thead th {\n",
       "        text-align: right;\n",
       "    }\n",
       "</style>\n",
       "<table border=\"1\" class=\"dataframe\">\n",
       "  <thead>\n",
       "    <tr style=\"text-align: right;\">\n",
       "      <th></th>\n",
       "      <th>item_type</th>\n",
       "      <th>slug_type</th>\n",
       "      <th>item_description</th>\n",
       "    </tr>\n",
       "  </thead>\n",
       "  <tbody>\n",
       "  </tbody>\n",
       "</table>\n",
       "</div>"
      ],
      "text/plain": [
       "Empty DataFrame\n",
       "Columns: [item_type, slug_type, item_description]\n",
       "Index: []"
      ]
     },
     "metadata": {},
     "output_type": "display_data"
    },
    {
     "name": "stdout",
     "output_type": "stream",
     "text": [
      "Combination: ('b', 'a')\n"
     ]
    },
    {
     "data": {
      "text/html": [
       "<div>\n",
       "<style scoped>\n",
       "    .dataframe tbody tr th:only-of-type {\n",
       "        vertical-align: middle;\n",
       "    }\n",
       "\n",
       "    .dataframe tbody tr th {\n",
       "        vertical-align: top;\n",
       "    }\n",
       "\n",
       "    .dataframe thead th {\n",
       "        text-align: right;\n",
       "    }\n",
       "</style>\n",
       "<table border=\"1\" class=\"dataframe\">\n",
       "  <thead>\n",
       "    <tr style=\"text-align: right;\">\n",
       "      <th></th>\n",
       "      <th>item_type</th>\n",
       "      <th>slug_type</th>\n",
       "      <th>item_description</th>\n",
       "    </tr>\n",
       "  </thead>\n",
       "  <tbody>\n",
       "  </tbody>\n",
       "</table>\n",
       "</div>"
      ],
      "text/plain": [
       "Empty DataFrame\n",
       "Columns: [item_type, slug_type, item_description]\n",
       "Index: []"
      ]
     },
     "metadata": {},
     "output_type": "display_data"
    },
    {
     "name": "stdout",
     "output_type": "stream",
     "text": [
      "Combination: ('b', 't')\n"
     ]
    },
    {
     "data": {
      "text/html": [
       "<div>\n",
       "<style scoped>\n",
       "    .dataframe tbody tr th:only-of-type {\n",
       "        vertical-align: middle;\n",
       "    }\n",
       "\n",
       "    .dataframe tbody tr th {\n",
       "        vertical-align: top;\n",
       "    }\n",
       "\n",
       "    .dataframe thead th {\n",
       "        text-align: right;\n",
       "    }\n",
       "</style>\n",
       "<table border=\"1\" class=\"dataframe\">\n",
       "  <thead>\n",
       "    <tr style=\"text-align: right;\">\n",
       "      <th></th>\n",
       "      <th>item_type</th>\n",
       "      <th>slug_type</th>\n",
       "      <th>item_description</th>\n",
       "    </tr>\n",
       "  </thead>\n",
       "  <tbody>\n",
       "  </tbody>\n",
       "</table>\n",
       "</div>"
      ],
      "text/plain": [
       "Empty DataFrame\n",
       "Columns: [item_type, slug_type, item_description]\n",
       "Index: []"
      ]
     },
     "metadata": {},
     "output_type": "display_data"
    },
    {
     "name": "stdout",
     "output_type": "stream",
     "text": [
      "Combination: ('b', 'p')\n"
     ]
    },
    {
     "data": {
      "text/html": [
       "<div>\n",
       "<style scoped>\n",
       "    .dataframe tbody tr th:only-of-type {\n",
       "        vertical-align: middle;\n",
       "    }\n",
       "\n",
       "    .dataframe tbody tr th {\n",
       "        vertical-align: top;\n",
       "    }\n",
       "\n",
       "    .dataframe thead th {\n",
       "        text-align: right;\n",
       "    }\n",
       "</style>\n",
       "<table border=\"1\" class=\"dataframe\">\n",
       "  <thead>\n",
       "    <tr style=\"text-align: right;\">\n",
       "      <th></th>\n",
       "      <th>item_type</th>\n",
       "      <th>slug_type</th>\n",
       "      <th>item_description</th>\n",
       "    </tr>\n",
       "  </thead>\n",
       "  <tbody>\n",
       "  </tbody>\n",
       "</table>\n",
       "</div>"
      ],
      "text/plain": [
       "Empty DataFrame\n",
       "Columns: [item_type, slug_type, item_description]\n",
       "Index: []"
      ]
     },
     "metadata": {},
     "output_type": "display_data"
    },
    {
     "name": "stdout",
     "output_type": "stream",
     "text": [
      "Combination: ('b', None)\n"
     ]
    },
    {
     "data": {
      "text/html": [
       "<div>\n",
       "<style scoped>\n",
       "    .dataframe tbody tr th:only-of-type {\n",
       "        vertical-align: middle;\n",
       "    }\n",
       "\n",
       "    .dataframe tbody tr th {\n",
       "        vertical-align: top;\n",
       "    }\n",
       "\n",
       "    .dataframe thead th {\n",
       "        text-align: right;\n",
       "    }\n",
       "</style>\n",
       "<table border=\"1\" class=\"dataframe\">\n",
       "  <thead>\n",
       "    <tr style=\"text-align: right;\">\n",
       "      <th></th>\n",
       "      <th>item_type</th>\n",
       "      <th>slug_type</th>\n",
       "      <th>item_description</th>\n",
       "    </tr>\n",
       "  </thead>\n",
       "  <tbody>\n",
       "  </tbody>\n",
       "</table>\n",
       "</div>"
      ],
      "text/plain": [
       "Empty DataFrame\n",
       "Columns: [item_type, slug_type, item_description]\n",
       "Index: []"
      ]
     },
     "metadata": {},
     "output_type": "display_data"
    }
   ],
   "source": [
    "# Unique values\n",
    "item_types = ['a', 'p', 't', 'b']\n",
    "slug_types = ['a', 't', 'p', None]\n",
    "\n",
    "# Generate all possible combinations\n",
    "combinations = list(itertools.product(item_types, slug_types))\n",
    "\n",
    "# Create separate DataFrames for each combination and store them in a dictionary\n",
    "df_combinations = {}\n",
    "\n",
    "for item, slug in combinations:\n",
    "    # Filter the main DataFrame for matching item_type and slug_type\n",
    "    df_filtered = df_product_types[\n",
    "        (df_product_types[\"item_type\"] == item) &\n",
    "        (df_product_types[\"slug_type\"] == slug)\n",
    "    ]\n",
    "    \n",
    "    # Randomly sample 5 rows (or take all if less than 5)\n",
    "    df_sampled = df_filtered.sample(n=min(5, len(df_filtered)), random_state=42)\n",
    "\n",
    "    # Store in dictionary with the combination as key\n",
    "    df_combinations[(item, slug)] = df_sampled\n",
    "\n",
    "# Display all the filtered DataFrames\n",
    "for key, df in df_combinations.items():\n",
    "    print(f\"Combination: {key}\")\n",
    "    display(df)"
   ]
  },
  {
   "cell_type": "code",
   "execution_count": 9,
   "metadata": {},
   "outputs": [],
   "source": [
    "df_bandcamp_sales[\"media_type\"] = \"other\" \n",
    "# ('a', 'a') -> \"digital\" for digital album sales\n",
    "df_bandcamp_sales.loc[\n",
    "    (df_bandcamp_sales[\"item_type\"] == 'a') & (df_bandcamp_sales[\"slug_type\"] == 'a'),\n",
    "    \"media_type\"\n",
    "] = \"digital\"\n",
    "\n",
    "# ('t', 't') -> \"digital\" for digital single track sales\n",
    "df_bandcamp_sales.loc[\n",
    "    (df_bandcamp_sales[\"item_type\"] == 't') & (df_bandcamp_sales[\"slug_type\"] == 't'),\n",
    "    \"media_type\"\n",
    "] = \"digital\"\n"
   ]
  },
  {
   "cell_type": "code",
   "execution_count": 10,
   "metadata": {},
   "outputs": [],
   "source": [
    "# Create subset where item_type is 'p' for better performance\n",
    "df_subset = df_bandcamp_sales[df_bandcamp_sales[\"item_type\"] == \"p\"]"
   ]
  },
  {
   "cell_type": "code",
   "execution_count": 11,
   "metadata": {},
   "outputs": [],
   "source": [
    "# for physical products lookup for CD in description\n",
    "df_subset.loc[\n",
    "    (df_bandcamp_sales[\"item_description\"].str.contains(\"CD\", case=False, na=False)),\n",
    "    \"media_type\"\n",
    "] = \"CD\"\n",
    "\n",
    "# Merge changes back into the original dataframe\n",
    "df_bandcamp_sales.update(df_subset)\n"
   ]
  },
  {
   "cell_type": "code",
   "execution_count": 12,
   "metadata": {},
   "outputs": [],
   "source": [
    "# for physical products lookup for CD in description\n",
    "df_subset.loc[\n",
    "    (df_bandcamp_sales[\"item_description\"].str.contains(\"Compact Disc\", case=False, na=False)),\n",
    "    \"media_type\"\n",
    "] = \"CD\"\n",
    "\n",
    "# Merge changes back into the original dataframe\n",
    "df_bandcamp_sales.update(df_subset)"
   ]
  },
  {
   "cell_type": "code",
   "execution_count": 13,
   "metadata": {},
   "outputs": [],
   "source": [
    "# synonyms for vynil in regexp for parsing strings:\n",
    "vinyl_synonyms = [\n",
    "    r\"\\bVinyl\\b\",      # Matches 'Vinyl'\n",
    "    r\"(\\d+LP|LP)\\b\",         # Matches 'LP', '2LP', etc\n",
    "    r\"\\bDouble\\b\",     # Matches 'Double'\n",
    "    r\"\\bEP\\d*\\b\",      # Matches 'EP', 'EP2', 'EP3' etc.\n",
    "    r\"\\b7['’]?\\b\",    # Matches '12' or '12\"' (12-inch)\n",
    "    r\"\\b12['’]?\\b\",    # Matches '12' or '12\"' (12-inch)\n",
    "    r\"\\b45RPM\\b\",      # Matches '45RPM'\n",
    "    r\"\\b33RPM\\b\",      # Matches '33RPM'\n",
    "    r\"\\bRecord\\b\",     # Matches 'Record'\n",
    "    r\"\\bPicture\\s*Disc\\b\", # Matches 'Picture Disc' - Special edition vinyl releases\n",
    "]\n",
    "\n",
    "# Compile regex pattern for all Vinyl synonyms\n",
    "vinyl_pattern = re.compile(\"|\".join(vinyl_synonyms), flags=re.IGNORECASE)"
   ]
  },
  {
   "cell_type": "code",
   "execution_count": 14,
   "metadata": {},
   "outputs": [
    {
     "name": "stderr",
     "output_type": "stream",
     "text": [
      "/var/folders/mw/fk43c9sj50d252zw3crnw2080000gn/T/ipykernel_14783/3723003539.py:3: UserWarning: This pattern is interpreted as a regular expression, and has match groups. To actually get the groups, use str.extract.\n",
      "  df_subset[\"item_description\"].str.contains(vinyl_pattern, na=False),\n"
     ]
    }
   ],
   "source": [
    "# Apply regex match only within the subset\n",
    "df_subset.loc[\n",
    "    df_subset[\"item_description\"].str.contains(vinyl_pattern, na=False),\n",
    "    \"media_type\"\n",
    "] = \"Vinyl\"\n",
    "\n",
    "# Merge changes back into the original dataframe\n",
    "df_bandcamp_sales.update(df_subset)"
   ]
  },
  {
   "cell_type": "code",
   "execution_count": 15,
   "metadata": {},
   "outputs": [],
   "source": [
    "# for physical products lookup for Cassette in description\n",
    "df_subset.loc[\n",
    "    (df_bandcamp_sales[\"item_description\"].str.contains(\"Cassette\", case=False, na=False)),\n",
    "    \"media_type\"\n",
    "] = \"Cassette\"\n",
    "\n",
    "# Merge changes back into the original dataframe\n",
    "df_bandcamp_sales.update(df_subset)"
   ]
  },
  {
   "cell_type": "code",
   "execution_count": 16,
   "metadata": {},
   "outputs": [],
   "source": [
    "df_bandcamp_sales.loc[\n",
    "    (df_bandcamp_sales[\"item_type\"] == \"p\") & \n",
    "    (df_bandcamp_sales[\"slug_type\"] == \"a\") & \n",
    "    (df_bandcamp_sales[\"media_type\"] == \"other\"),\n",
    "    \"media_type\"\n",
    "] = \"CD or Vinyl\""
   ]
  },
  {
   "cell_type": "code",
   "execution_count": 18,
   "metadata": {},
   "outputs": [
    {
     "data": {
      "text/html": [
       "<div>\n",
       "<style scoped>\n",
       "    .dataframe tbody tr th:only-of-type {\n",
       "        vertical-align: middle;\n",
       "    }\n",
       "\n",
       "    .dataframe tbody tr th {\n",
       "        vertical-align: top;\n",
       "    }\n",
       "\n",
       "    .dataframe thead th {\n",
       "        text-align: right;\n",
       "    }\n",
       "</style>\n",
       "<table border=\"1\" class=\"dataframe\">\n",
       "  <thead>\n",
       "    <tr style=\"text-align: right;\">\n",
       "      <th></th>\n",
       "      <th>media_type</th>\n",
       "      <th>item_type</th>\n",
       "      <th>slug_type</th>\n",
       "      <th>item_description</th>\n",
       "    </tr>\n",
       "  </thead>\n",
       "  <tbody>\n",
       "    <tr>\n",
       "      <th>392628</th>\n",
       "      <td>other</td>\n",
       "      <td>p</td>\n",
       "      <td>p</td>\n",
       "      <td>Subversion Through Jazz: The birth of British ...</td>\n",
       "    </tr>\n",
       "    <tr>\n",
       "      <th>692760</th>\n",
       "      <td>Vinyl</td>\n",
       "      <td>p</td>\n",
       "      <td>a</td>\n",
       "      <td>\"Moon colored\" Vinyl Gatefold 2x12 only with o...</td>\n",
       "    </tr>\n",
       "    <tr>\n",
       "      <th>875598</th>\n",
       "      <td>Cassette</td>\n",
       "      <td>p</td>\n",
       "      <td>a</td>\n",
       "      <td>Limited Edition Double-Cassette</td>\n",
       "    </tr>\n",
       "    <tr>\n",
       "      <th>839973</th>\n",
       "      <td>digital</td>\n",
       "      <td>a</td>\n",
       "      <td>a</td>\n",
       "      <td>Maybe It's Time (Demo) b/w Alabama Sky</td>\n",
       "    </tr>\n",
       "    <tr>\n",
       "      <th>189051</th>\n",
       "      <td>digital</td>\n",
       "      <td>a</td>\n",
       "      <td>a</td>\n",
       "      <td>Mothertime</td>\n",
       "    </tr>\n",
       "  </tbody>\n",
       "</table>\n",
       "</div>"
      ],
      "text/plain": [
       "       media_type item_type slug_type  \\\n",
       "392628      other         p         p   \n",
       "692760      Vinyl         p         a   \n",
       "875598   Cassette         p         a   \n",
       "839973    digital         a         a   \n",
       "189051    digital         a         a   \n",
       "\n",
       "                                         item_description  \n",
       "392628  Subversion Through Jazz: The birth of British ...  \n",
       "692760  \"Moon colored\" Vinyl Gatefold 2x12 only with o...  \n",
       "875598                    Limited Edition Double-Cassette  \n",
       "839973             Maybe It's Time (Demo) b/w Alabama Sky  \n",
       "189051                                         Mothertime  "
      ]
     },
     "execution_count": 18,
     "metadata": {},
     "output_type": "execute_result"
    }
   ],
   "source": [
    "df_bandcamp_sales[[\"media_type\", \"item_type\", \"slug_type\", \"item_description\"]].sample(5)"
   ]
  },
  {
   "cell_type": "markdown",
   "metadata": {},
   "source": [
    "#### Removing redundant data"
   ]
  },
  {
   "cell_type": "code",
   "execution_count": 19,
   "metadata": {},
   "outputs": [
    {
     "name": "stderr",
     "output_type": "stream",
     "text": [
      "/var/folders/mw/fk43c9sj50d252zw3crnw2080000gn/T/ipykernel_14783/4267973152.py:5: SettingWithCopyWarning: \n",
      "A value is trying to be set on a copy of a slice from a DataFrame\n",
      "\n",
      "See the caveats in the documentation: https://pandas.pydata.org/pandas-docs/stable/user_guide/indexing.html#returning-a-view-versus-a-copy\n",
      "  df_bandcamp_sales.drop(columns=[\"item_type\", \"slug_type\"], inplace=True)\n"
     ]
    }
   ],
   "source": [
    "# Step 1: Drop rows where media_type == 'other'\n",
    "df_bandcamp_sales = df_bandcamp_sales[df_bandcamp_sales[\"media_type\"] != \"other\"]\n",
    "\n",
    "# Step 2: Drop the columns 'item_type' and 'slug_type'\n",
    "df_bandcamp_sales.drop(columns=[\"item_type\", \"slug_type\"], inplace=True)"
   ]
  },
  {
   "cell_type": "code",
   "execution_count": 30,
   "metadata": {},
   "outputs": [
    {
     "data": {
      "text/html": [
       "<div>\n",
       "<style scoped>\n",
       "    .dataframe tbody tr th:only-of-type {\n",
       "        vertical-align: middle;\n",
       "    }\n",
       "\n",
       "    .dataframe tbody tr th {\n",
       "        vertical-align: top;\n",
       "    }\n",
       "\n",
       "    .dataframe thead th {\n",
       "        text-align: right;\n",
       "    }\n",
       "</style>\n",
       "<table border=\"1\" class=\"dataframe\">\n",
       "  <thead>\n",
       "    <tr style=\"text-align: right;\">\n",
       "      <th></th>\n",
       "      <th>media_type</th>\n",
       "      <th>item_description</th>\n",
       "    </tr>\n",
       "  </thead>\n",
       "  <tbody>\n",
       "    <tr>\n",
       "      <th>217467</th>\n",
       "      <td>digital</td>\n",
       "      <td>Forever 2</td>\n",
       "    </tr>\n",
       "    <tr>\n",
       "      <th>304403</th>\n",
       "      <td>digital</td>\n",
       "      <td>Ephemeral Life.</td>\n",
       "    </tr>\n",
       "    <tr>\n",
       "      <th>626598</th>\n",
       "      <td>digital</td>\n",
       "      <td>From Exile</td>\n",
       "    </tr>\n",
       "    <tr>\n",
       "      <th>285519</th>\n",
       "      <td>CD</td>\n",
       "      <td>Gypsy (CD)</td>\n",
       "    </tr>\n",
       "    <tr>\n",
       "      <th>134690</th>\n",
       "      <td>digital</td>\n",
       "      <td>Tulpa</td>\n",
       "    </tr>\n",
       "  </tbody>\n",
       "</table>\n",
       "</div>"
      ],
      "text/plain": [
       "       media_type item_description\n",
       "217467    digital        Forever 2\n",
       "304403    digital  Ephemeral Life.\n",
       "626598    digital       From Exile\n",
       "285519         CD       Gypsy (CD)\n",
       "134690    digital            Tulpa"
      ]
     },
     "execution_count": 30,
     "metadata": {},
     "output_type": "execute_result"
    }
   ],
   "source": [
    "df_bandcamp_sales[[\"media_type\", \"item_description\"]].sample(5)"
   ]
  },
  {
   "cell_type": "markdown",
   "metadata": {},
   "source": [
    "#### backup the dataframe"
   ]
  },
  {
   "cell_type": "code",
   "execution_count": 33,
   "metadata": {},
   "outputs": [
    {
     "name": "stderr",
     "output_type": "stream",
     "text": [
      "INFO:root:Backup file is created: /Users/bubblegum_doubledrops/Library/Mobile Documents/com~apple~CloudDocs/0prio - Important heavy backups/IronHack/big_projects/end-to-end-data-analysis/datasets/df_bandcamp_sales.pkl\n"
     ]
    }
   ],
   "source": [
    "project_pack.dictionary['df_bandcamp_sales'].backup()"
   ]
  },
  {
   "cell_type": "code",
   "execution_count": 34,
   "metadata": {},
   "outputs": [],
   "source": [
    "# uncomment to restore from here:\n",
    "# project_pack = datasets.DatasetPack(restore=True)"
   ]
  },
  {
   "cell_type": "markdown",
   "metadata": {},
   "source": [
    "#### Frequency table and chart for df_bandcamp_sales['media_type']"
   ]
  },
  {
   "cell_type": "code",
   "execution_count": 35,
   "metadata": {},
   "outputs": [
    {
     "data": {
      "text/html": [
       "<div>\n",
       "<style scoped>\n",
       "    .dataframe tbody tr th:only-of-type {\n",
       "        vertical-align: middle;\n",
       "    }\n",
       "\n",
       "    .dataframe tbody tr th {\n",
       "        vertical-align: top;\n",
       "    }\n",
       "\n",
       "    .dataframe thead th {\n",
       "        text-align: right;\n",
       "    }\n",
       "</style>\n",
       "<table border=\"1\" class=\"dataframe\">\n",
       "  <thead>\n",
       "    <tr style=\"text-align: right;\">\n",
       "      <th></th>\n",
       "      <th>media_type</th>\n",
       "      <th>count</th>\n",
       "    </tr>\n",
       "  </thead>\n",
       "  <tbody>\n",
       "    <tr>\n",
       "      <th>0</th>\n",
       "      <td>digital</td>\n",
       "      <td>752599</td>\n",
       "    </tr>\n",
       "    <tr>\n",
       "      <th>1</th>\n",
       "      <td>Vinyl</td>\n",
       "      <td>107775</td>\n",
       "    </tr>\n",
       "    <tr>\n",
       "      <th>2</th>\n",
       "      <td>CD</td>\n",
       "      <td>39647</td>\n",
       "    </tr>\n",
       "    <tr>\n",
       "      <th>3</th>\n",
       "      <td>CD or Vinyl</td>\n",
       "      <td>23142</td>\n",
       "    </tr>\n",
       "    <tr>\n",
       "      <th>4</th>\n",
       "      <td>Cassette</td>\n",
       "      <td>22715</td>\n",
       "    </tr>\n",
       "  </tbody>\n",
       "</table>\n",
       "</div>"
      ],
      "text/plain": [
       "    media_type   count\n",
       "0      digital  752599\n",
       "1        Vinyl  107775\n",
       "2           CD   39647\n",
       "3  CD or Vinyl   23142\n",
       "4     Cassette   22715"
      ]
     },
     "execution_count": 35,
     "metadata": {},
     "output_type": "execute_result"
    }
   ],
   "source": [
    "# Create a frequency table for 'media_type' as a DataFrame\n",
    "media_type_counts = df_bandcamp_sales[\"media_type\"].value_counts().reset_index()\n",
    "media_type_counts.columns = [\"media_type\", \"count\"]\n",
    "\n",
    "media_type_counts"
   ]
  },
  {
   "cell_type": "code",
   "execution_count": 40,
   "metadata": {},
   "outputs": [
    {
     "data": {
      "image/png": "[encoded data removed]",
      "text/plain": [
       "<Figure size 800x800 with 1 Axes>"
      ]
     },
     "metadata": {},
     "output_type": "display_data"
    }
   ],
   "source": [
    "logging.getLogger().setLevel(logging.ERROR)\n",
    "\n",
    "# Create a donut chart for media_type distribution\n",
    "plt.figure(figsize=(8, 8))\n",
    "\n",
    "# Define colors and explode values for better visualization\n",
    "colors = sns.color_palette(\"viridis\", len(media_type_counts))\n",
    "explode = [0.05] * len(media_type_counts)  # Slightly separate each slice\n",
    "\n",
    "# Create the pie chart with a white circle in the center to make it a donut chart\n",
    "plt.pie(\n",
    "    media_type_counts[\"count\"],\n",
    "    labels=media_type_counts[\"media_type\"],\n",
    "    autopct='%1.1f%%',\n",
    "    startangle=140,\n",
    "    colors=colors,\n",
    "    explode=explode,\n",
    "    wedgeprops={\"edgecolor\": \"black\"}\n",
    ")\n",
    "\n",
    "# Draw a white circle in the center\n",
    "center_circle = plt.Circle((0, 0), 0.70, fc='white')\n",
    "plt.gca().add_artist(center_circle)\n",
    "\n",
    "# Set title and display the plot\n",
    "plt.title(\"Media Type Distribution of Bandcamp Sales\")\n",
    "plt.show()\n",
    "\n",
    "logging.getLogger().setLevel(logging.DEBUG)"
   ]
  },
  {
   "cell_type": "markdown",
   "metadata": {},
   "source": [
    "### Frequency table for df_discogs_artists[\"artist_data_quality\"]\n",
    "\n",
    "As we see from the auto-EDA output:\n",
    "- Column \"artist_data_quality\" has 6 unique values.\n",
    "\n",
    "  -- Unique values are:\n",
    "\n",
    " ['Needs Vote' 'Correct' 'Needs Major Changes' 'Complete and Correct'\n",
    " 'Needs Minor Changes' 'Entirely Incorrect']"
   ]
  },
  {
   "cell_type": "code",
   "execution_count": 41,
   "metadata": {},
   "outputs": [
    {
     "data": {
      "text/html": [
       "<div>\n",
       "<style scoped>\n",
       "    .dataframe tbody tr th:only-of-type {\n",
       "        vertical-align: middle;\n",
       "    }\n",
       "\n",
       "    .dataframe tbody tr th {\n",
       "        vertical-align: top;\n",
       "    }\n",
       "\n",
       "    .dataframe thead th {\n",
       "        text-align: right;\n",
       "    }\n",
       "</style>\n",
       "<table border=\"1\" class=\"dataframe\">\n",
       "  <thead>\n",
       "    <tr style=\"text-align: right;\">\n",
       "      <th></th>\n",
       "      <th>artist_data_quality</th>\n",
       "      <th>count</th>\n",
       "    </tr>\n",
       "  </thead>\n",
       "  <tbody>\n",
       "    <tr>\n",
       "      <th>0</th>\n",
       "      <td>Needs Major Changes</td>\n",
       "      <td>6014661</td>\n",
       "    </tr>\n",
       "    <tr>\n",
       "      <th>1</th>\n",
       "      <td>Needs Vote</td>\n",
       "      <td>2518536</td>\n",
       "    </tr>\n",
       "    <tr>\n",
       "      <th>2</th>\n",
       "      <td>Correct</td>\n",
       "      <td>657203</td>\n",
       "    </tr>\n",
       "    <tr>\n",
       "      <th>3</th>\n",
       "      <td>Complete and Correct</td>\n",
       "      <td>4211</td>\n",
       "    </tr>\n",
       "    <tr>\n",
       "      <th>4</th>\n",
       "      <td>Needs Minor Changes</td>\n",
       "      <td>260</td>\n",
       "    </tr>\n",
       "    <tr>\n",
       "      <th>5</th>\n",
       "      <td>Entirely Incorrect</td>\n",
       "      <td>36</td>\n",
       "    </tr>\n",
       "  </tbody>\n",
       "</table>\n",
       "</div>"
      ],
      "text/plain": [
       "    artist_data_quality    count\n",
       "0   Needs Major Changes  6014661\n",
       "1            Needs Vote  2518536\n",
       "2               Correct   657203\n",
       "3  Complete and Correct     4211\n",
       "4   Needs Minor Changes      260\n",
       "5    Entirely Incorrect       36"
      ]
     },
     "execution_count": 41,
     "metadata": {},
     "output_type": "execute_result"
    }
   ],
   "source": [
    "# Create a frequency table for 'artist_data_quality' as a DataFrame\n",
    "artist_data_quality_counts = df_discogs_artists[\"artist_data_quality\"].value_counts().reset_index()\n",
    "artist_data_quality_counts.columns = [\"artist_data_quality\", \"count\"]\n",
    "\n",
    "artist_data_quality_counts"
   ]
  },
  {
   "cell_type": "code",
   "execution_count": 42,
   "metadata": {},
   "outputs": [],
   "source": [
    "# Drop rows with 'Entirely Incorrect' artist data\n",
    "df_discogs_artists = df_discogs_artists[df_discogs_artists[\"artist_data_quality\"] != \"Entirely Incorrect\"]"
   ]
  },
  {
   "cell_type": "markdown",
   "metadata": {},
   "source": [
    "#### backup the dataframe"
   ]
  },
  {
   "cell_type": "code",
   "execution_count": 43,
   "metadata": {},
   "outputs": [
    {
     "name": "stderr",
     "output_type": "stream",
     "text": [
      "INFO:root:Backup file is created: /Users/bubblegum_doubledrops/Library/Mobile Documents/com~apple~CloudDocs/0prio - Important heavy backups/IronHack/big_projects/end-to-end-data-analysis/datasets/df_discogs_artists.pkl\n"
     ]
    }
   ],
   "source": [
    "project_pack.dictionary['df_discogs_artists'].backup()"
   ]
  },
  {
   "cell_type": "code",
   "execution_count": null,
   "metadata": {},
   "outputs": [],
   "source": [
    "# uncomment to restore from here:\n",
    "# project_pack = datasets.DatasetPack(restore=True)"
   ]
  },
  {
   "cell_type": "markdown",
   "metadata": {},
   "source": [
    "### Frequency counts for df_discogs_releases[\"genre\"]\n",
    "\n",
    "As we see from the auto-EDA output:\n",
    "\n",
    "- Column \"genre\" has 15 unique values.\n",
    "\n",
    "  -- Unique values are:\n",
    "  \n",
    " ['Electronic' 'Hip Hop' 'Non-Music' 'Jazz' 'Rock' 'Latin' 'Funk / Soul'\n",
    " 'Stage & Screen' 'Pop' 'Reggae' 'Folk, World, & Country' 'Classical'\n",
    " 'Blues' 'Brass & Military' \"Children's\" nan]"
   ]
  },
  {
   "cell_type": "code",
   "execution_count": 52,
   "metadata": {},
   "outputs": [],
   "source": [
    "#  Drop non-music\n",
    "df_discogs_releases = df_discogs_releases[df_discogs_releases[\"genre\"] != \"Non-Music\"]"
   ]
  },
  {
   "cell_type": "code",
   "execution_count": 62,
   "metadata": {},
   "outputs": [
    {
     "data": {
      "text/html": [
       "<div>\n",
       "<style scoped>\n",
       "    .dataframe tbody tr th:only-of-type {\n",
       "        vertical-align: middle;\n",
       "    }\n",
       "\n",
       "    .dataframe tbody tr th {\n",
       "        vertical-align: top;\n",
       "    }\n",
       "\n",
       "    .dataframe thead th {\n",
       "        text-align: right;\n",
       "    }\n",
       "</style>\n",
       "<table border=\"1\" class=\"dataframe\">\n",
       "  <thead>\n",
       "    <tr style=\"text-align: right;\">\n",
       "      <th></th>\n",
       "      <th>genre</th>\n",
       "      <th>count</th>\n",
       "    </tr>\n",
       "  </thead>\n",
       "  <tbody>\n",
       "    <tr>\n",
       "      <th>0</th>\n",
       "      <td>Rock</td>\n",
       "      <td>4414291</td>\n",
       "    </tr>\n",
       "    <tr>\n",
       "      <th>1</th>\n",
       "      <td>Electronic</td>\n",
       "      <td>3491910</td>\n",
       "    </tr>\n",
       "    <tr>\n",
       "      <th>2</th>\n",
       "      <td>Pop</td>\n",
       "      <td>2546269</td>\n",
       "    </tr>\n",
       "    <tr>\n",
       "      <th>3</th>\n",
       "      <td>Folk, World, &amp; Country</td>\n",
       "      <td>1507122</td>\n",
       "    </tr>\n",
       "    <tr>\n",
       "      <th>4</th>\n",
       "      <td>Jazz</td>\n",
       "      <td>1054791</td>\n",
       "    </tr>\n",
       "    <tr>\n",
       "      <th>5</th>\n",
       "      <td>Funk / Soul</td>\n",
       "      <td>922087</td>\n",
       "    </tr>\n",
       "    <tr>\n",
       "      <th>6</th>\n",
       "      <td>Classical</td>\n",
       "      <td>755037</td>\n",
       "    </tr>\n",
       "    <tr>\n",
       "      <th>7</th>\n",
       "      <td>Hip Hop</td>\n",
       "      <td>664307</td>\n",
       "    </tr>\n",
       "    <tr>\n",
       "      <th>8</th>\n",
       "      <td>Latin</td>\n",
       "      <td>504809</td>\n",
       "    </tr>\n",
       "    <tr>\n",
       "      <th>9</th>\n",
       "      <td>Stage &amp; Screen</td>\n",
       "      <td>360972</td>\n",
       "    </tr>\n",
       "    <tr>\n",
       "      <th>10</th>\n",
       "      <td>Reggae</td>\n",
       "      <td>347399</td>\n",
       "    </tr>\n",
       "    <tr>\n",
       "      <th>11</th>\n",
       "      <td>Blues</td>\n",
       "      <td>284398</td>\n",
       "    </tr>\n",
       "    <tr>\n",
       "      <th>12</th>\n",
       "      <td>Children's</td>\n",
       "      <td>107230</td>\n",
       "    </tr>\n",
       "    <tr>\n",
       "      <th>13</th>\n",
       "      <td>Brass &amp; Military</td>\n",
       "      <td>40996</td>\n",
       "    </tr>\n",
       "  </tbody>\n",
       "</table>\n",
       "</div>"
      ],
      "text/plain": [
       "                     genre    count\n",
       "0                     Rock  4414291\n",
       "1               Electronic  3491910\n",
       "2                      Pop  2546269\n",
       "3   Folk, World, & Country  1507122\n",
       "4                     Jazz  1054791\n",
       "5              Funk / Soul   922087\n",
       "6                Classical   755037\n",
       "7                  Hip Hop   664307\n",
       "8                    Latin   504809\n",
       "9           Stage & Screen   360972\n",
       "10                  Reggae   347399\n",
       "11                   Blues   284398\n",
       "12              Children's   107230\n",
       "13        Brass & Military    40996"
      ]
     },
     "execution_count": 62,
     "metadata": {},
     "output_type": "execute_result"
    }
   ],
   "source": [
    "# Create a frequency table for 'artist_data_quality' as a DataFrame\n",
    "genre_counts = df_discogs_releases[\"genre\"].value_counts().reset_index()\n",
    "genre_counts.columns = [\"genre\", \"count\"]\n",
    "\n",
    "genre_counts"
   ]
  },
  {
   "cell_type": "code",
   "execution_count": 64,
   "metadata": {},
   "outputs": [
    {
     "data": {
      "image/png": "[encoded data removed]",
      "text/plain": [
       "<Figure size 1000x1000 with 1 Axes>"
      ]
     },
     "metadata": {},
     "output_type": "display_data"
    }
   ],
   "source": [
    "logging.getLogger().setLevel(logging.ERROR)\n",
    "\n",
    "# Create a frequency table for 'genre' in df_discogs_releases\n",
    "genre_counts = df_discogs_releases[\"genre\"].value_counts().reset_index()\n",
    "genre_counts.columns = [\"genre\", \"count\"]\n",
    "\n",
    "# Create a figure for the donut chart\n",
    "plt.figure(figsize=(10, 10))\n",
    "\n",
    "# Define colors and explode values for better visualization\n",
    "colors = sns.color_palette(\"viridis\", len(genre_counts))\n",
    "explode = [0.1 if count < 200000 else 0.05 for count in genre_counts[\"count\"]]  # Slightly separate small values\n",
    "\n",
    "# Create the pie chart with a white circle in the center to make it a donut chart\n",
    "wedges, texts, autotexts = plt.pie(\n",
    "    genre_counts[\"count\"],\n",
    "    labels=genre_counts[\"genre\"],\n",
    "    autopct=lambda p: f'{p:.1f}%' if p > 2 else '',  # Show percentage only for values > 2%\n",
    "    startangle=140,\n",
    "    colors=colors,\n",
    "    explode=explode,\n",
    "    wedgeprops={\"edgecolor\": \"black\"},\n",
    "    pctdistance=0.85  # Move percentages closer to the center\n",
    ")\n",
    "\n",
    "# Adjust label positions for smaller values to avoid overlap\n",
    "for text in texts:\n",
    "    text.set_fontsize(10)  # Reduce font size for better spacing\n",
    "for autotext in autotexts:\n",
    "    autotext.set_fontsize(10)\n",
    "    autotext.set_color('white')  # Ensure visibility\n",
    "\n",
    "# Draw a white circle in the center\n",
    "center_circle = plt.Circle((0, 0), 0.70, fc='white')\n",
    "plt.gca().add_artist(center_circle)\n",
    "\n",
    "# Set title and display the plot\n",
    "plt.title(\"Genre Distribution of Discogs Releases\", fontsize=14, fontweight='bold')\n",
    "plt.show()\n",
    "\n",
    "logging.getLogger().setLevel(logging.DEBUG)"
   ]
  },
  {
   "cell_type": "markdown",
   "metadata": {},
   "source": [
    "### Frequency table for df_discogs_releases[\"format\"]\n",
    "\n",
    "As we see from the auto-EDA output:\n",
    " - Column \"format\" has 57 unique values.\n",
    "\n",
    "This is above treshold 20, so the list of values is not auto-generated."
   ]
  },
  {
   "cell_type": "code",
   "execution_count": 48,
   "metadata": {},
   "outputs": [
    {
     "data": {
      "text/plain": [
       "array(['Vinyl', 'CD', 'Cassette', 'Box Set', 'All Media', 'File',\n",
       "       'Floppy Disk', 'Flexi-disc', 'DAT', 'Minidisc', 'DVD', 'Lathe Cut',\n",
       "       'CDV', 'Hybrid', 'VHS', 'Acetate', 'SACD', 'DVDr', 'Shellac',\n",
       "       '8-Track Cartridge', 'MVD', 'Laserdisc', 'Reel-To-Reel',\n",
       "       'Memory Stick', 'Betamax', 'DCC', 'UMD', 'Microcassette', 'HD DVD',\n",
       "       'Blu-ray', 'Pathé Disc', 'Cylinder', 'DualDisc', 'Edison Disc',\n",
       "       '4-Track Cartridge', 'VHD', 'Blu-ray-R', 'SelectaVision',\n",
       "       'U-matic', 'Film Reel', 'MiniDV', 'Video8', 'Betacam SP',\n",
       "       'PlayTape', 'Video 2000', 'Elcaset', 'Wire Recording',\n",
       "       'NT Cassette', 'Betacam', 'Tefifon', 'RCA Tape Cartridge',\n",
       "       'Pocket Rocker', 'DC-International', 'Sabamobil',\n",
       "       'Revere Magnetic Stereo Tape Ca', 'Cartrivision', 'HD DVD-R'],\n",
       "      dtype=object)"
      ]
     },
     "execution_count": 48,
     "metadata": {},
     "output_type": "execute_result"
    }
   ],
   "source": [
    "df_discogs_releases[\"format\"].unique()"
   ]
  },
  {
   "cell_type": "code",
   "execution_count": 50,
   "metadata": {},
   "outputs": [],
   "source": [
    "df_discogs_releases[\"media_type\"] = \"other\""
   ]
  },
  {
   "cell_type": "code",
   "execution_count": null,
   "metadata": {},
   "outputs": [],
   "source": [
    "formats_vinyl = ['Vinyl', 'Shellac', 'Lathe Cut', 'Acetate', 'Pathé Disc', 'Edison Disc']\n",
    "\n"
   ]
  },
  {
   "cell_type": "markdown",
   "metadata": {},
   "source": [
    "## Backup"
   ]
  },
  {
   "cell_type": "code",
   "execution_count": null,
   "metadata": {},
   "outputs": [],
   "source": [
    "for _, dataset in project_pack.dictionary.items():\n",
    "    dataset.backup()\n",
    "\n",
    "project_pack.backup_pack()"
   ]
  }
 ],
 "metadata": {
  "kernelspec": {
   "display_name": "Python (venv)",
   "language": "python",
   "name": "venv"
  },
  "language_info": {
   "codemirror_mode": {
    "name": "ipython",
    "version": 3
   },
   "file_extension": ".py",
   "mimetype": "text/x-python",
   "name": "python",
   "nbconvert_exporter": "python",
   "pygments_lexer": "ipython3",
   "version": "3.13.2"
  }
 },
 "nbformat": 4,
 "nbformat_minor": 2
}
