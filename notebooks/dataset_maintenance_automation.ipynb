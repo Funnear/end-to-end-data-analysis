{
 "cells": [
  {
   "cell_type": "code",
   "execution_count": 1,
   "metadata": {},
   "outputs": [],
   "source": [
    "import pandas as pd"
   ]
  },
  {
   "cell_type": "code",
   "execution_count": null,
   "metadata": {},
   "outputs": [],
   "source": [
    "import logging\n",
    "logging.getLogger().setLevel(logging.DEBUG)\n",
    "# DEBUG - what developers look at\n",
    "# INFO - extra information on what's happening\n",
    "# logging.info(f\"The age ({age}) is between 24 and 34\")\n",
    "# WARNING - this won't stop your code from running but you're doing something slightly off\n",
    "# EXCEPTION / ERROR - this will stop your code but you'll get extra info on the error"
   ]
  },
  {
   "cell_type": "code",
   "execution_count": 1,
   "metadata": {},
   "outputs": [],
   "source": [
    "from src import eda, datasets"
   ]
  },
  {
   "cell_type": "markdown",
   "metadata": {},
   "source": [
    "To quickly get file names of datasets in the code copy output from terminal:\n",
    "```bash\n",
    "cd datasets; ls -1\n",
    "```\n",
    "And then use multicoursor editing feature."
   ]
  },
  {
   "cell_type": "code",
   "execution_count": null,
   "metadata": {},
   "outputs": [],
   "source": [
    "datasets_files = [\n",
    "'1000000-bandcamp-sales.csv', \n",
    "'discogs_20250101_artists.csv', \n",
    "'release_data.csv']\n",
    "\n",
    "project_pack = datasets.DatasetPack()\n",
    "\n",
    "df_bandcamp_sales = datasets.Dataset('df_bandcamp_sales', datasets_files[0])\n",
    "project_pack.add_dataset(df_bandcamp_sales)\n",
    "\n",
    "df_discogs_artists = datasets.Dataset('df_discogs_artists', datasets_files[1])\n",
    "project_pack.add_dataset(df_discogs_artists)\n",
    "\n",
    "df_discogs_releases = datasets.Dataset('df_discogs_releases', datasets_files[2])\n",
    "project_pack.add_dataset(df_discogs_releases)"
   ]
  },
  {
   "cell_type": "code",
   "execution_count": 3,
   "metadata": {},
   "outputs": [
    {
     "name": "stdout",
     "output_type": "stream",
     "text": [
      "df_bandcamp_sales has shape (1000000, 23)\n",
      "df_bandcamp_sales has numerical data in columns: ['utc_date', 'item_price', 'art_id', 'amount_paid', 'releases', 'amount_paid_usd', 'package_image_id', 'addl_count']\n",
      "df_discogs_artists has shape (9194907, 14)\n",
      "df_discogs_artists has numerical data in columns: ['Unnamed: 0', 'aliases_name_id', 'artist_id', 'groups_name_id', 'members_name_id']\n",
      "df_discogs_releases has shape (17372035, 5)\n",
      "df_discogs_releases has numerical data in columns: ['release_id', 'year']\n"
     ]
    }
   ],
   "source": [
    "for _, dataset in project_pack.dictionary.items():\n",
    "    print(f\"{dataset.label} has shape {dataset.dataframe.shape}\")\n",
    "    print(f\"{dataset.label} has numerical data in columns: {eda.numerical_data_columns(dataset.dataframe)}\")"
   ]
  },
  {
   "cell_type": "code",
   "execution_count": 5,
   "metadata": {},
   "outputs": [],
   "source": [
    "for _, dataset in project_pack.dictionary.items():\n",
    "    dataset.backup()"
   ]
  },
  {
   "cell_type": "code",
   "execution_count": 6,
   "metadata": {},
   "outputs": [],
   "source": [
    "project_pack.backup_pack()"
   ]
  },
  {
   "cell_type": "code",
   "execution_count": 7,
   "metadata": {},
   "outputs": [],
   "source": [
    "project_pack.restore_pack()"
   ]
  },
  {
   "cell_type": "code",
   "execution_count": 11,
   "metadata": {},
   "outputs": [
    {
     "name": "stdout",
     "output_type": "stream",
     "text": [
      "================= df_bandcamp_sales =================\n",
      "<class 'pandas.core.frame.DataFrame'>\n",
      "RangeIndex: 1000000 entries, 0 to 999999\n",
      "Data columns (total 23 columns):\n",
      " #   Column                 Non-Null Count    Dtype  \n",
      "---  ------                 --------------    -----  \n",
      " 0   _id                    1000000 non-null  object \n",
      " 1   art_url                1000000 non-null  object \n",
      " 2   item_type              1000000 non-null  object \n",
      " 3   utc_date               1000000 non-null  float64\n",
      " 4   country_code           1000000 non-null  object \n",
      " 5   track_album_slug_text  2237 non-null     object \n",
      " 6   country                1000000 non-null  object \n",
      " 7   slug_type              988416 non-null   object \n",
      " 8   amount_paid_fmt        1000000 non-null  object \n",
      " 9   item_price             1000000 non-null  float64\n",
      " 10  item_description       999977 non-null   object \n",
      " 11  art_id                 764520 non-null   float64\n",
      " 12  url                    1000000 non-null  object \n",
      " 13  amount_paid            1000000 non-null  float64\n",
      " 14  releases               11584 non-null    float64\n",
      " 15  artist_name            999990 non-null   object \n",
      " 16  currency               1000000 non-null  object \n",
      " 17  album_title            356461 non-null   object \n",
      " 18  amount_paid_usd        1000000 non-null  float64\n",
      " 19  package_image_id       232708 non-null   float64\n",
      " 20  amount_over_fmt        119133 non-null   object \n",
      " 21  item_slug              21742 non-null    object \n",
      " 22  addl_count             21742 non-null    float64\n",
      "dtypes: float64(8), object(15)\n",
      "memory usage: 175.5+ MB\n",
      "\n",
      "================= df_discogs_artists =================\n",
      "<class 'pandas.core.frame.DataFrame'>\n",
      "RangeIndex: 9194907 entries, 0 to 9194906\n",
      "Data columns (total 14 columns):\n",
      " #   Column               Dtype  \n",
      "---  ------               -----  \n",
      " 0   Unnamed: 0           int64  \n",
      " 1   aliases_name         object \n",
      " 2   aliases_name_id      float64\n",
      " 3   artist_data_quality  object \n",
      " 4   artist_id            int64  \n",
      " 5   artist_name          object \n",
      " 6   artist_profile       object \n",
      " 7   artist_realname      object \n",
      " 8   groups_name          object \n",
      " 9   groups_name_id       float64\n",
      " 10  members_name         object \n",
      " 11  members_name_id      float64\n",
      " 12  namevariations_name  object \n",
      " 13  urls_url             object \n",
      "dtypes: float64(3), int64(2), object(9)\n",
      "memory usage: 982.1+ MB\n",
      "\n",
      "================= df_discogs_releases =================\n",
      "<class 'pandas.core.frame.DataFrame'>\n",
      "RangeIndex: 17372035 entries, 0 to 17372034\n",
      "Data columns (total 5 columns):\n",
      " #   Column      Dtype  \n",
      "---  ------      -----  \n",
      " 0   release_id  int64  \n",
      " 1   country     object \n",
      " 2   year        float64\n",
      " 3   genre       object \n",
      " 4   format      object \n",
      "dtypes: float64(1), int64(1), object(3)\n",
      "memory usage: 662.7+ MB\n",
      "\n"
     ]
    }
   ],
   "source": [
    "for label, dataset in project_pack.dictionary.items():\n",
    "    print(f\"================= {label} =================\")\n",
    "    dataset.dataframe.info()\n",
    "    print()"
   ]
  }
 ],
 "metadata": {
  "kernelspec": {
   "display_name": "Python (venv)",
   "language": "python",
   "name": "venv"
  },
  "language_info": {
   "codemirror_mode": {
    "name": "ipython",
    "version": 3
   },
   "file_extension": ".py",
   "mimetype": "text/x-python",
   "name": "python",
   "nbconvert_exporter": "python",
   "pygments_lexer": "ipython3",
   "version": "3.13.2"
  }
 },
 "nbformat": 4,
 "nbformat_minor": 2
}
